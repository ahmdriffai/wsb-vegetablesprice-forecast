{
 "cells": [
  {
   "cell_type": "code",
   "execution_count": 33,
   "metadata": {},
   "outputs": [],
   "source": [
    "# import library yang diperlukan\n",
    "import numpy as np\n",
    "import pandas as pd\n",
    "import matplotlib.pyplot as plt"
   ]
  },
  {
   "cell_type": "code",
   "execution_count": 34,
   "metadata": {},
   "outputs": [],
   "source": [
    "# pilih range tanggal\n",
    "start_date = '2021-01-01'\n",
    "end_date = '2023-12-07'"
   ]
  },
  {
   "cell_type": "code",
   "execution_count": 35,
   "metadata": {},
   "outputs": [
    {
     "data": {
      "text/html": [
       "<div>\n",
       "<style scoped>\n",
       "    .dataframe tbody tr th:only-of-type {\n",
       "        vertical-align: middle;\n",
       "    }\n",
       "\n",
       "    .dataframe tbody tr th {\n",
       "        vertical-align: top;\n",
       "    }\n",
       "\n",
       "    .dataframe thead th {\n",
       "        text-align: right;\n",
       "    }\n",
       "</style>\n",
       "<table border=\"1\" class=\"dataframe\">\n",
       "  <thead>\n",
       "    <tr style=\"text-align: right;\">\n",
       "      <th></th>\n",
       "      <th>id</th>\n",
       "      <th>Tgl</th>\n",
       "      <th>Kab/Kota</th>\n",
       "      <th>Tingkat Harga</th>\n",
       "      <th>BMB</th>\n",
       "      <th>BMK</th>\n",
       "      <th>BPI</th>\n",
       "      <th>BPL</th>\n",
       "      <th>BNC</th>\n",
       "      <th>CMB</th>\n",
       "      <th>...</th>\n",
       "      <th>CRH</th>\n",
       "      <th>CRM</th>\n",
       "      <th>KBK</th>\n",
       "      <th>KTG</th>\n",
       "      <th>KLB</th>\n",
       "      <th>KLG</th>\n",
       "      <th>MTM</th>\n",
       "      <th>TMT</th>\n",
       "      <th>WRT</th>\n",
       "      <th>CHB</th>\n",
       "    </tr>\n",
       "  </thead>\n",
       "  <tbody>\n",
       "    <tr>\n",
       "      <th>0</th>\n",
       "      <td>45645</td>\n",
       "      <td>31 Oktober 2023</td>\n",
       "      <td>Wonosobo</td>\n",
       "      <td>Harga Produsen</td>\n",
       "      <td>0</td>\n",
       "      <td>10000</td>\n",
       "      <td>0</td>\n",
       "      <td>18000</td>\n",
       "      <td>0</td>\n",
       "      <td>0</td>\n",
       "      <td>...</td>\n",
       "      <td>47000</td>\n",
       "      <td>68000</td>\n",
       "      <td>0</td>\n",
       "      <td>11000</td>\n",
       "      <td>0</td>\n",
       "      <td>2000</td>\n",
       "      <td>0</td>\n",
       "      <td>3000</td>\n",
       "      <td>8000</td>\n",
       "      <td>0.0</td>\n",
       "    </tr>\n",
       "    <tr>\n",
       "      <th>1</th>\n",
       "      <td>28616</td>\n",
       "      <td>31 Oktober 2022</td>\n",
       "      <td>Wonosobo</td>\n",
       "      <td>Harga Produsen</td>\n",
       "      <td>0</td>\n",
       "      <td>16000</td>\n",
       "      <td>0</td>\n",
       "      <td>17000</td>\n",
       "      <td>0</td>\n",
       "      <td>0</td>\n",
       "      <td>...</td>\n",
       "      <td>16000</td>\n",
       "      <td>32000</td>\n",
       "      <td>0</td>\n",
       "      <td>10000</td>\n",
       "      <td>0</td>\n",
       "      <td>2500</td>\n",
       "      <td>0</td>\n",
       "      <td>5000</td>\n",
       "      <td>5000</td>\n",
       "      <td>0.0</td>\n",
       "    </tr>\n",
       "    <tr>\n",
       "      <th>2</th>\n",
       "      <td>38100</td>\n",
       "      <td>31 Mei 2023</td>\n",
       "      <td>Wonosobo</td>\n",
       "      <td>Harga Produsen</td>\n",
       "      <td>0</td>\n",
       "      <td>19000</td>\n",
       "      <td>0</td>\n",
       "      <td>22000</td>\n",
       "      <td>0</td>\n",
       "      <td>0</td>\n",
       "      <td>...</td>\n",
       "      <td>22000</td>\n",
       "      <td>26000</td>\n",
       "      <td>0</td>\n",
       "      <td>14000</td>\n",
       "      <td>0</td>\n",
       "      <td>6000</td>\n",
       "      <td>0</td>\n",
       "      <td>4500</td>\n",
       "      <td>4000</td>\n",
       "      <td>0.0</td>\n",
       "    </tr>\n",
       "    <tr>\n",
       "      <th>3</th>\n",
       "      <td>21012</td>\n",
       "      <td>31 Mei 2022</td>\n",
       "      <td>Wonosobo</td>\n",
       "      <td>Harga Produsen</td>\n",
       "      <td>0</td>\n",
       "      <td>18000</td>\n",
       "      <td>0</td>\n",
       "      <td>17000</td>\n",
       "      <td>0</td>\n",
       "      <td>0</td>\n",
       "      <td>...</td>\n",
       "      <td>47000</td>\n",
       "      <td>46000</td>\n",
       "      <td>0</td>\n",
       "      <td>10000</td>\n",
       "      <td>0</td>\n",
       "      <td>6000</td>\n",
       "      <td>0</td>\n",
       "      <td>4500</td>\n",
       "      <td>4000</td>\n",
       "      <td>0.0</td>\n",
       "    </tr>\n",
       "    <tr>\n",
       "      <th>4</th>\n",
       "      <td>5557</td>\n",
       "      <td>31 Mei 2021</td>\n",
       "      <td>Wonosobo</td>\n",
       "      <td>Harga Produsen</td>\n",
       "      <td>0</td>\n",
       "      <td>14000</td>\n",
       "      <td>0</td>\n",
       "      <td>13000</td>\n",
       "      <td>0</td>\n",
       "      <td>0</td>\n",
       "      <td>...</td>\n",
       "      <td>15000</td>\n",
       "      <td>22000</td>\n",
       "      <td>0</td>\n",
       "      <td>9000</td>\n",
       "      <td>0</td>\n",
       "      <td>1500</td>\n",
       "      <td>0</td>\n",
       "      <td>3500</td>\n",
       "      <td>4000</td>\n",
       "      <td>0.0</td>\n",
       "    </tr>\n",
       "  </tbody>\n",
       "</table>\n",
       "<p>5 rows × 21 columns</p>\n",
       "</div>"
      ],
      "text/plain": [
       "      id              Tgl  Kab/Kota   Tingkat Harga  BMB    BMK  BPI    BPL  \\\n",
       "0  45645  31 Oktober 2023  Wonosobo  Harga Produsen    0  10000    0  18000   \n",
       "1  28616  31 Oktober 2022  Wonosobo  Harga Produsen    0  16000    0  17000   \n",
       "2  38100      31 Mei 2023  Wonosobo  Harga Produsen    0  19000    0  22000   \n",
       "3  21012      31 Mei 2022  Wonosobo  Harga Produsen    0  18000    0  17000   \n",
       "4   5557      31 Mei 2021  Wonosobo  Harga Produsen    0  14000    0  13000   \n",
       "\n",
       "   BNC  CMB  ...    CRH    CRM  KBK    KTG  KLB   KLG  MTM   TMT   WRT  CHB  \n",
       "0    0    0  ...  47000  68000    0  11000    0  2000    0  3000  8000  0.0  \n",
       "1    0    0  ...  16000  32000    0  10000    0  2500    0  5000  5000  0.0  \n",
       "2    0    0  ...  22000  26000    0  14000    0  6000    0  4500  4000  0.0  \n",
       "3    0    0  ...  47000  46000    0  10000    0  6000    0  4500  4000  0.0  \n",
       "4    0    0  ...  15000  22000    0   9000    0  1500    0  3500  4000  0.0  \n",
       "\n",
       "[5 rows x 21 columns]"
      ]
     },
     "execution_count": 35,
     "metadata": {},
     "output_type": "execute_result"
    }
   ],
   "source": [
    "# load dataset harga sayur\n",
    "data = pd.read_csv('../data/data-sayur.csv', sep=\";\")\n",
    "data.head(5)"
   ]
  },
  {
   "cell_type": "code",
   "execution_count": 36,
   "metadata": {},
   "outputs": [
    {
     "name": "stdout",
     "output_type": "stream",
     "text": [
      "<class 'pandas.core.frame.DataFrame'>\n",
      "RangeIndex: 835 entries, 0 to 834\n",
      "Data columns (total 2 columns):\n",
      " #   Column   Non-Null Count  Dtype \n",
      "---  ------   --------------  ----- \n",
      " 0   tanggal  835 non-null    object\n",
      " 1   harga    835 non-null    int64 \n",
      "dtypes: int64(1), object(1)\n",
      "memory usage: 13.2+ KB\n"
     ]
    }
   ],
   "source": [
    "# Filter colom (Tanggal (TGL) dan harga (KTG) )\n",
    "pick_harga = 'KTG'\n",
    "data = data[['Tgl', pick_harga]]\n",
    "data.rename(columns={'Tgl': 'tanggal', pick_harga: 'harga'}, inplace=True)\n",
    "data.info()"
   ]
  },
  {
   "cell_type": "code",
   "execution_count": 37,
   "metadata": {},
   "outputs": [],
   "source": [
    "# mengubah format tanggal karene belum dapat dijadikan tipe data datetime \n",
    "def change_bulan(x):\n",
    "    # return x[3:-5]\n",
    "    if x[3:-5] == \"Januari\":\n",
    "      return f\"{x[-4:]}-0{1}-{x[:2]}\"\n",
    "    elif x[3:-5] == \"Februari\":\n",
    "        return f\"{x[-4:]}-0{2}-{x[:2]}\"\n",
    "    elif x[3:-5] == \"Maret\":\n",
    "        return f\"{x[-4:]}-0{3}-{x[:2]}\"\n",
    "    elif x[3:-5] == \"April\":\n",
    "        return f\"{x[-4:]}-0{4}-{x[:2]}\"\n",
    "    elif x[3:-5] == \"Mei\":\n",
    "        return f\"{x[-4:]}-0{5}-{x[:2]}\"\n",
    "    elif x[3:-5] == \"Juni\":\n",
    "        return f\"{x[-4:]}-0{6}-{x[:2]}\"\n",
    "    elif x[3:-5] == \"Juli\":\n",
    "        return f\"{x[-4:]}-0{7}-{x[:2]}\"\n",
    "    elif x[3:-5] == \"Agustus\":\n",
    "        return f\"{x[-4:]}-0{8}-{x[:2]}\"\n",
    "    elif x[3:-5] == \"September\":\n",
    "        return f\"{x[-4:]}-0{9}-{x[:2]}\"\n",
    "    elif x[3:-5] == \"Oktober\":\n",
    "        return f\"{x[-4:]}-{10}-{x[:2]}\"\n",
    "    elif x[3:-5] == \"November\":\n",
    "        return f\"{x[-4:]}-{11}-{x[:2]}\"\n",
    "    elif x[3:-5] == \"Desember\":\n",
    "        return f\"{x[-4:]}-{12}-{x[:2]}\"\n",
    "\n",
    "data['tanggal'] = data['tanggal'].apply(change_bulan)"
   ]
  },
  {
   "cell_type": "code",
   "execution_count": null,
   "metadata": {},
   "outputs": [],
   "source": []
  },
  {
   "cell_type": "code",
   "execution_count": 38,
   "metadata": {},
   "outputs": [],
   "source": [
    "# sort dan menghapus diplikat data\n",
    "data['tanggal'] = pd.to_datetime(data['tanggal'], format='%Y-%m-%d')\n",
    "data.sort_values(['tanggal'], inplace=True)\n",
    "data = data.drop_duplicates(['tanggal'])"
   ]
  },
  {
   "cell_type": "code",
   "execution_count": 39,
   "metadata": {},
   "outputs": [
    {
     "name": "stdout",
     "output_type": "stream",
     "text": [
      "<class 'pandas.core.frame.DataFrame'>\n",
      "Index: 825 entries, 745 to 665\n",
      "Data columns (total 2 columns):\n",
      " #   Column   Non-Null Count  Dtype         \n",
      "---  ------   --------------  -----         \n",
      " 0   tanggal  825 non-null    datetime64[ns]\n",
      " 1   harga    825 non-null    int64         \n",
      "dtypes: datetime64[ns](1), int64(1)\n",
      "memory usage: 19.3 KB\n"
     ]
    }
   ],
   "source": [
    "data.info()"
   ]
  },
  {
   "cell_type": "markdown",
   "metadata": {},
   "source": [
    "Selanjutnya melakukan perbaikan data yang kosong dan memberi nilai dengan metode moving average "
   ]
  },
  {
   "cell_type": "code",
   "execution_count": 40,
   "metadata": {},
   "outputs": [],
   "source": [
    "# membuat rangetanggal \n",
    "tanggal_baru = [d for d in pd.date_range(start=start_date, end=end_date, freq='D')]\n",
    "\n",
    "# membuat dataframe tanggal baru\n",
    "data_tanggal = pd.DataFrame({'tanggal': tanggal_baru})"
   ]
  },
  {
   "cell_type": "code",
   "execution_count": 41,
   "metadata": {},
   "outputs": [
    {
     "data": {
      "text/html": [
       "<div>\n",
       "<style scoped>\n",
       "    .dataframe tbody tr th:only-of-type {\n",
       "        vertical-align: middle;\n",
       "    }\n",
       "\n",
       "    .dataframe tbody tr th {\n",
       "        vertical-align: top;\n",
       "    }\n",
       "\n",
       "    .dataframe thead th {\n",
       "        text-align: right;\n",
       "    }\n",
       "</style>\n",
       "<table border=\"1\" class=\"dataframe\">\n",
       "  <thead>\n",
       "    <tr style=\"text-align: right;\">\n",
       "      <th></th>\n",
       "      <th>tanggal</th>\n",
       "      <th>harga</th>\n",
       "    </tr>\n",
       "    <tr>\n",
       "      <th>tanggal</th>\n",
       "      <th></th>\n",
       "      <th></th>\n",
       "    </tr>\n",
       "  </thead>\n",
       "  <tbody>\n",
       "    <tr>\n",
       "      <th>2021-01-01</th>\n",
       "      <td>2021-01-01</td>\n",
       "      <td>NaN</td>\n",
       "    </tr>\n",
       "    <tr>\n",
       "      <th>2021-01-02</th>\n",
       "      <td>2021-01-02</td>\n",
       "      <td>NaN</td>\n",
       "    </tr>\n",
       "    <tr>\n",
       "      <th>2021-01-03</th>\n",
       "      <td>2021-01-03</td>\n",
       "      <td>NaN</td>\n",
       "    </tr>\n",
       "    <tr>\n",
       "      <th>2021-01-04</th>\n",
       "      <td>2021-01-04</td>\n",
       "      <td>17000.0</td>\n",
       "    </tr>\n",
       "    <tr>\n",
       "      <th>2021-01-05</th>\n",
       "      <td>2021-01-05</td>\n",
       "      <td>17000.0</td>\n",
       "    </tr>\n",
       "    <tr>\n",
       "      <th>...</th>\n",
       "      <td>...</td>\n",
       "      <td>...</td>\n",
       "    </tr>\n",
       "    <tr>\n",
       "      <th>2023-12-03</th>\n",
       "      <td>2023-12-03</td>\n",
       "      <td>13000.0</td>\n",
       "    </tr>\n",
       "    <tr>\n",
       "      <th>2023-12-04</th>\n",
       "      <td>2023-12-04</td>\n",
       "      <td>14000.0</td>\n",
       "    </tr>\n",
       "    <tr>\n",
       "      <th>2023-12-05</th>\n",
       "      <td>2023-12-05</td>\n",
       "      <td>14000.0</td>\n",
       "    </tr>\n",
       "    <tr>\n",
       "      <th>2023-12-06</th>\n",
       "      <td>2023-12-06</td>\n",
       "      <td>14000.0</td>\n",
       "    </tr>\n",
       "    <tr>\n",
       "      <th>2023-12-07</th>\n",
       "      <td>2023-12-07</td>\n",
       "      <td>14000.0</td>\n",
       "    </tr>\n",
       "  </tbody>\n",
       "</table>\n",
       "<p>1071 rows × 2 columns</p>\n",
       "</div>"
      ],
      "text/plain": [
       "              tanggal    harga\n",
       "tanggal                       \n",
       "2021-01-01 2021-01-01      NaN\n",
       "2021-01-02 2021-01-02      NaN\n",
       "2021-01-03 2021-01-03      NaN\n",
       "2021-01-04 2021-01-04  17000.0\n",
       "2021-01-05 2021-01-05  17000.0\n",
       "...               ...      ...\n",
       "2023-12-03 2023-12-03  13000.0\n",
       "2023-12-04 2023-12-04  14000.0\n",
       "2023-12-05 2023-12-05  14000.0\n",
       "2023-12-06 2023-12-06  14000.0\n",
       "2023-12-07 2023-12-07  14000.0\n",
       "\n",
       "[1071 rows x 2 columns]"
      ]
     },
     "execution_count": 41,
     "metadata": {},
     "output_type": "execute_result"
    }
   ],
   "source": [
    "# merge data tanggal dan data asli\n",
    "data_merge = pd.merge(data_tanggal, data, how='left', on=['tanggal'])\n",
    "data_merge.index = data_merge['tanggal']\n",
    "data_merge"
   ]
  },
  {
   "cell_type": "code",
   "execution_count": 42,
   "metadata": {},
   "outputs": [
    {
     "name": "stdout",
     "output_type": "stream",
     "text": [
      "<class 'pandas.core.frame.DataFrame'>\n",
      "DatetimeIndex: 1071 entries, 2021-01-01 to 2023-12-07\n",
      "Data columns (total 2 columns):\n",
      " #   Column   Non-Null Count  Dtype         \n",
      "---  ------   --------------  -----         \n",
      " 0   tanggal  1071 non-null   datetime64[ns]\n",
      " 1   harga    825 non-null    float64       \n",
      "dtypes: datetime64[ns](1), float64(1)\n",
      "memory usage: 25.1 KB\n"
     ]
    }
   ],
   "source": [
    "data_merge.info()"
   ]
  },
  {
   "cell_type": "code",
   "execution_count": 43,
   "metadata": {},
   "outputs": [
    {
     "data": {
      "text/plain": [
       "<Axes: xlabel='tanggal'>"
      ]
     },
     "execution_count": 43,
     "metadata": {},
     "output_type": "execute_result"
    },
    {
     "data": {
      "image/png": "[encoded data removed]",
      "text/plain": [
       "<Figure size 1600x600 with 1 Axes>"
      ]
     },
     "metadata": {},
     "output_type": "display_data"
    }
   ],
   "source": [
    "# # plot data mentah\n",
    "data_merge['harga'].plot(figsize=(16,6))"
   ]
  },
  {
   "cell_type": "code",
   "execution_count": 44,
   "metadata": {},
   "outputs": [
    {
     "data": {
      "text/html": [
       "<div>\n",
       "<style scoped>\n",
       "    .dataframe tbody tr th:only-of-type {\n",
       "        vertical-align: middle;\n",
       "    }\n",
       "\n",
       "    .dataframe tbody tr th {\n",
       "        vertical-align: top;\n",
       "    }\n",
       "\n",
       "    .dataframe thead th {\n",
       "        text-align: right;\n",
       "    }\n",
       "</style>\n",
       "<table border=\"1\" class=\"dataframe\">\n",
       "  <thead>\n",
       "    <tr style=\"text-align: right;\">\n",
       "      <th></th>\n",
       "      <th>tanggal</th>\n",
       "      <th>harga</th>\n",
       "    </tr>\n",
       "    <tr>\n",
       "      <th>tanggal</th>\n",
       "      <th></th>\n",
       "      <th></th>\n",
       "    </tr>\n",
       "  </thead>\n",
       "  <tbody>\n",
       "    <tr>\n",
       "      <th>2023-01-05</th>\n",
       "      <td>2023-01-05</td>\n",
       "      <td>18000.0</td>\n",
       "    </tr>\n",
       "    <tr>\n",
       "      <th>2022-10-09</th>\n",
       "      <td>2022-10-09</td>\n",
       "      <td>17000.0</td>\n",
       "    </tr>\n",
       "    <tr>\n",
       "      <th>2023-05-31</th>\n",
       "      <td>2023-05-31</td>\n",
       "      <td>19000.0</td>\n",
       "    </tr>\n",
       "    <tr>\n",
       "      <th>2021-02-24</th>\n",
       "      <td>2021-02-24</td>\n",
       "      <td>17000.0</td>\n",
       "    </tr>\n",
       "    <tr>\n",
       "      <th>2023-02-12</th>\n",
       "      <td>2023-02-12</td>\n",
       "      <td>26000.0</td>\n",
       "    </tr>\n",
       "    <tr>\n",
       "      <th>2021-02-21</th>\n",
       "      <td>2021-02-21</td>\n",
       "      <td>17000.0</td>\n",
       "    </tr>\n",
       "    <tr>\n",
       "      <th>2021-12-23</th>\n",
       "      <td>2021-12-23</td>\n",
       "      <td>14000.0</td>\n",
       "    </tr>\n",
       "    <tr>\n",
       "      <th>2022-05-28</th>\n",
       "      <td>2022-05-28</td>\n",
       "      <td>18000.0</td>\n",
       "    </tr>\n",
       "    <tr>\n",
       "      <th>2022-02-06</th>\n",
       "      <td>2022-02-06</td>\n",
       "      <td>16000.0</td>\n",
       "    </tr>\n",
       "    <tr>\n",
       "      <th>2022-04-10</th>\n",
       "      <td>2022-04-10</td>\n",
       "      <td>15000.0</td>\n",
       "    </tr>\n",
       "  </tbody>\n",
       "</table>\n",
       "</div>"
      ],
      "text/plain": [
       "              tanggal    harga\n",
       "tanggal                       \n",
       "2023-01-05 2023-01-05  18000.0\n",
       "2022-10-09 2022-10-09  17000.0\n",
       "2023-05-31 2023-05-31  19000.0\n",
       "2021-02-24 2021-02-24  17000.0\n",
       "2023-02-12 2023-02-12  26000.0\n",
       "2021-02-21 2021-02-21  17000.0\n",
       "2021-12-23 2021-12-23  14000.0\n",
       "2022-05-28 2022-05-28  18000.0\n",
       "2022-02-06 2022-02-06  16000.0\n",
       "2022-04-10 2022-04-10  15000.0"
      ]
     },
     "execution_count": 44,
     "metadata": {},
     "output_type": "execute_result"
    }
   ],
   "source": [
    "\n",
    "# Mengisi nilai yang kosong dengan nilai moving average\n",
    "data_merge['harga'].fillna(data_merge['harga']\n",
    "                   .rolling(30,center=True,min_periods=1)\n",
    "                   .median(), inplace=True)\n",
    "data_merge.loc[data_merge.harga == 0, 'harga'] = data_merge['harga'].rolling(\n",
    "    30,\n",
    "    center=True,\n",
    "    min_periods=1).median()\n",
    "data_merge.dropna(inplace=True)\n",
    "data_merge.sample(10)"
   ]
  },
  {
   "cell_type": "code",
   "execution_count": 45,
   "metadata": {},
   "outputs": [
    {
     "name": "stdout",
     "output_type": "stream",
     "text": [
      "<class 'pandas.core.frame.DataFrame'>\n",
      "DatetimeIndex: 1071 entries, 2021-01-01 to 2023-12-07\n",
      "Data columns (total 2 columns):\n",
      " #   Column   Non-Null Count  Dtype         \n",
      "---  ------   --------------  -----         \n",
      " 0   tanggal  1071 non-null   datetime64[ns]\n",
      " 1   harga    1071 non-null   float64       \n",
      "dtypes: datetime64[ns](1), float64(1)\n",
      "memory usage: 57.4 KB\n"
     ]
    }
   ],
   "source": [
    "data_merge.info()"
   ]
  },
  {
   "cell_type": "code",
   "execution_count": 46,
   "metadata": {},
   "outputs": [
    {
     "data": {
      "text/plain": [
       "(1071, 1)"
      ]
     },
     "execution_count": 46,
     "metadata": {},
     "output_type": "execute_result"
    }
   ],
   "source": [
    "\n",
    "# pilih range tanggal\n",
    "data_akhir = data_merge.loc[(data_merge['tanggal'] \n",
    "             >= start_date) \n",
    "             & (data_merge['tanggal'] <= end_date)]\n",
    "\n",
    "data_akhir = data_akhir[['harga']]\n",
    "data_akhir.shape"
   ]
  },
  {
   "cell_type": "code",
   "execution_count": 47,
   "metadata": {},
   "outputs": [],
   "source": [
    "\n",
    "# export csv data hasil preprocessing \n",
    "data_akhir.to_csv(f\"../data/timeseries-{pick_harga}-wonosobo.csv\")"
   ]
  },
  {
   "cell_type": "code",
   "execution_count": 48,
   "metadata": {},
   "outputs": [
    {
     "data": {
      "text/plain": [
       "<Axes: xlabel='tanggal'>"
      ]
     },
     "execution_count": 48,
     "metadata": {},
     "output_type": "execute_result"
    },
    {
     "data": {
      "image/png": "[encoded data removed]",
      "text/plain": [
       "<Figure size 1600x600 with 1 Axes>"
      ]
     },
     "metadata": {},
     "output_type": "display_data"
    }
   ],
   "source": [
    "\n",
    "# plot data hasil preprocessing\n",
    "data_akhir['harga'].plot(figsize=(16,6))\n"
   ]
  }
 ],
 "metadata": {
  "kernelspec": {
   "display_name": "venv",
   "language": "python",
   "name": "python3"
  },
  "language_info": {
   "codemirror_mode": {
    "name": "ipython",
    "version": 3
   },
   "file_extension": ".py",
   "mimetype": "text/x-python",
   "name": "python",
   "nbconvert_exporter": "python",
   "pygments_lexer": "ipython3",
   "version": "3.9.6"
  }
 },
 "nbformat": 4,
 "nbformat_minor": 2
}
