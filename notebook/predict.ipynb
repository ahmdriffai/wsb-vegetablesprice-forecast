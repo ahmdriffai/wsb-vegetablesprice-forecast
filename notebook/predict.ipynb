{
 "cells": [
  {
   "cell_type": "code",
   "execution_count": 1,
   "metadata": {},
   "outputs": [
    {
     "name": "stderr",
     "output_type": "stream",
     "text": [
      "2023-11-28 11:32:28.631359: I tensorflow/core/platform/cpu_feature_guard.cc:182] This TensorFlow binary is optimized to use available CPU instructions in performance-critical operations.\n",
      "To enable the following instructions: AVX2 FMA, in other operations, rebuild TensorFlow with the appropriate compiler flags.\n",
      "/Volumes/DataQ/Tugas Akhir/lstm-predict-potato-price/venv/lib/python3.9/site-packages/urllib3/__init__.py:34: NotOpenSSLWarning: urllib3 v2.0 only supports OpenSSL 1.1.1+, currently the 'ssl' module is compiled with 'LibreSSL 2.8.3'. See: https://github.com/urllib3/urllib3/issues/3020\n",
      "  warnings.warn(\n"
     ]
    }
   ],
   "source": [
    "import numpy as np\n",
    "import pandas as pd\n",
    "import matplotlib.pyplot as plt\n",
    "import tensorflow as tf\n",
    "import numpy as np\n",
    "from sklearn.model_selection import train_test_split\n",
    "from keras.layers import Dense, LSTM, Dropout\n",
    "from sklearn.preprocessing import MinMaxScaler"
   ]
  },
  {
   "cell_type": "code",
   "execution_count": 2,
   "metadata": {},
   "outputs": [],
   "source": [
    "# load data final preprocessing\n",
    "pick_harga = 'KTG'\n",
    "# load dataset csv harga \n",
    "df = pd.read_csv(f\"data/timeseries-{pick_harga}-wonosobo.csv\")"
   ]
  },
  {
   "cell_type": "code",
   "execution_count": 3,
   "metadata": {},
   "outputs": [],
   "source": [
    "def normalize_data(df):\n",
    "    scaler = MinMaxScaler()\n",
    "    df['harga'] = scaler.fit_transform(df['harga'].values.reshape(-1,1))\n",
    "    return df\n",
    "\n",
    "df_new = normalize_data(df)\n",
    "df_new = df_new['harga']"
   ]
  },
  {
   "cell_type": "code",
   "execution_count": 4,
   "metadata": {},
   "outputs": [
    {
     "data": {
      "text/plain": [
       "array(['2021-01-01', '2021-01-02', '2021-01-03', ..., '2023-12-03',\n",
       "       '2023-12-04', '2023-12-05'], dtype=object)"
      ]
     },
     "execution_count": 4,
     "metadata": {},
     "output_type": "execute_result"
    }
   ],
   "source": [
    "year = df['tanggal'].values\n",
    "total  = df['harga'].values\n",
    "year"
   ]
  },
  {
   "cell_type": "code",
   "execution_count": 6,
   "metadata": {},
   "outputs": [
    {
     "name": "stdout",
     "output_type": "stream",
     "text": [
      "x train : (844,)\n",
      "x validation : (211,)\n"
     ]
    }
   ],
   "source": [
    "x_train, x_valid, y_train, y_valid = train_test_split(total, year, test_size=0.2, shuffle=False )\n",
    "print(f\"x train : {x_train.shape}\" )\n",
    "print(f\"x validation : {x_valid.shape}\")\n"
   ]
  },
  {
   "cell_type": "code",
   "execution_count": 7,
   "metadata": {},
   "outputs": [],
   "source": [
    "def windowed_dataset(series, window_size, batch_size, shuffle_buffer):\n",
    "    series = tf.expand_dims(series, axis=-1)\n",
    "    ds = tf.data.Dataset.from_tensor_slices(series)\n",
    "    ds = ds.window(window_size + 1, shift=1, drop_remainder=True)\n",
    "    ds = ds.flat_map(lambda w: w.batch(window_size + 1))\n",
    "    ds = ds.shuffle(shuffle_buffer)\n",
    "    ds = ds.map(lambda w: (w[:-1], w[-1:]))\n",
    "    return ds.batch(batch_size).prefetch(1)"
   ]
  },
  {
   "cell_type": "code",
   "execution_count": null,
   "metadata": {},
   "outputs": [],
   "source": []
  },
  {
   "cell_type": "code",
   "execution_count": 8,
   "metadata": {},
   "outputs": [],
   "source": [
    "train_set = windowed_dataset(x_train, window_size=60, batch_size=100, shuffle_buffer=1000)\n",
    "val_set = windowed_dataset(x_valid, window_size=60, batch_size=100, shuffle_buffer=1000)"
   ]
  },
  {
   "cell_type": "code",
   "execution_count": 9,
   "metadata": {},
   "outputs": [
    {
     "data": {
      "text/plain": [
       "<_PrefetchDataset element_spec=(TensorSpec(shape=(None, None, 1), dtype=tf.float64, name=None), TensorSpec(shape=(None, None, 1), dtype=tf.float64, name=None))>"
      ]
     },
     "execution_count": 9,
     "metadata": {},
     "output_type": "execute_result"
    }
   ],
   "source": [
    "train_set"
   ]
  },
  {
   "cell_type": "code",
   "execution_count": 10,
   "metadata": {},
   "outputs": [],
   "source": [
    "# Build the model\n",
    "model = tf.keras.models.Sequential([\n",
    "  LSTM(60, return_sequences=True),\n",
    "  LSTM(60),\n",
    "  Dense(30, activation=\"relu\"),\n",
    "  Dropout(0.5),\n",
    "  Dense(10, activation=\"relu\"),\n",
    "  Dropout(0.2),\n",
    "  Dense(1)\n",
    "])\n",
    "\n",
    "# # Print the model summary\n",
    "# model.summary()"
   ]
  },
  {
   "cell_type": "code",
   "execution_count": 11,
   "metadata": {},
   "outputs": [],
   "source": [
    "# Set the training parameters\n",
    "model.compile(loss=\"mse\", optimizer=tf.keras.optimizers.SGD(learning_rate=1e-6, momentum=0.9))"
   ]
  },
  {
   "cell_type": "code",
   "execution_count": 12,
   "metadata": {},
   "outputs": [
    {
     "name": "stdout",
     "output_type": "stream",
     "text": [
      "0.09999999999999998\n"
     ]
    }
   ],
   "source": [
    "# Train the model\n",
    "threshold_mae = (df['harga'].max() - df['harga'].min()) * 10/100\n",
    "print(threshold_mae)"
   ]
  },
  {
   "cell_type": "code",
   "execution_count": 13,
   "metadata": {},
   "outputs": [],
   "source": [
    "class myCallback(tf.keras.callbacks.Callback):\n",
    "  def on_epoch_end(self, epoch, logs={}):\n",
    "    if(logs.get('mae') < threshold_mae and logs.get('val_mae') < threshold_mae):\n",
    "      print(\"\\nMAE model sudah < 10% skala data\")\n",
    "      self.model.stop_training = True\n",
    "callback = myCallback()"
   ]
  },
  {
   "cell_type": "code",
   "execution_count": 14,
   "metadata": {},
   "outputs": [
    {
     "name": "stdout",
     "output_type": "stream",
     "text": [
      "Epoch 1/100\n",
      "8/8 [==============================] - 6s 203ms/step - loss: 0.1257 - mae: 0.3887 - val_loss: 0.1735 - val_mae: 0.5836\n",
      "Epoch 2/100\n",
      "8/8 [==============================] - 1s 100ms/step - loss: 0.1194 - mae: 0.3781 - val_loss: 0.1644 - val_mae: 0.5677\n",
      "Epoch 3/100\n",
      "8/8 [==============================] - 1s 88ms/step - loss: 0.1170 - mae: 0.3705 - val_loss: 0.1546 - val_mae: 0.5503\n",
      "Epoch 4/100\n",
      "8/8 [==============================] - 1s 87ms/step - loss: 0.1109 - mae: 0.3587 - val_loss: 0.1450 - val_mae: 0.5326\n",
      "Epoch 5/100\n",
      "8/8 [==============================] - 1s 88ms/step - loss: 0.1074 - mae: 0.3504 - val_loss: 0.1360 - val_mae: 0.5155\n",
      "Epoch 6/100\n",
      "8/8 [==============================] - 1s 94ms/step - loss: 0.1038 - mae: 0.3425 - val_loss: 0.1285 - val_mae: 0.5009\n",
      "Epoch 7/100\n",
      "8/8 [==============================] - 1s 120ms/step - loss: 0.0983 - mae: 0.3326 - val_loss: 0.1225 - val_mae: 0.4888\n",
      "Epoch 8/100\n",
      "8/8 [==============================] - 1s 93ms/step - loss: 0.0945 - mae: 0.3263 - val_loss: 0.1173 - val_mae: 0.4781\n",
      "Epoch 9/100\n",
      "8/8 [==============================] - 1s 88ms/step - loss: 0.0940 - mae: 0.3231 - val_loss: 0.1126 - val_mae: 0.4683\n",
      "Epoch 10/100\n",
      "8/8 [==============================] - 1s 94ms/step - loss: 0.0901 - mae: 0.3159 - val_loss: 0.1084 - val_mae: 0.4592\n",
      "Epoch 11/100\n",
      "8/8 [==============================] - 1s 89ms/step - loss: 0.0857 - mae: 0.3076 - val_loss: 0.1047 - val_mae: 0.4511\n",
      "Epoch 12/100\n",
      "8/8 [==============================] - 1s 88ms/step - loss: 0.0858 - mae: 0.3051 - val_loss: 0.1014 - val_mae: 0.4441\n",
      "Epoch 13/100\n",
      "8/8 [==============================] - 1s 91ms/step - loss: 0.0844 - mae: 0.3000 - val_loss: 0.0985 - val_mae: 0.4376\n",
      "Epoch 14/100\n",
      "8/8 [==============================] - 1s 91ms/step - loss: 0.0802 - mae: 0.2942 - val_loss: 0.0958 - val_mae: 0.4315\n",
      "Epoch 15/100\n",
      "8/8 [==============================] - 1s 106ms/step - loss: 0.0796 - mae: 0.2898 - val_loss: 0.0933 - val_mae: 0.4256\n",
      "Epoch 16/100\n",
      "8/8 [==============================] - 1s 109ms/step - loss: 0.0771 - mae: 0.2871 - val_loss: 0.0909 - val_mae: 0.4201\n",
      "Epoch 17/100\n",
      "8/8 [==============================] - 1s 89ms/step - loss: 0.0772 - mae: 0.2841 - val_loss: 0.0887 - val_mae: 0.4149\n",
      "Epoch 18/100\n",
      "8/8 [==============================] - 1s 100ms/step - loss: 0.0767 - mae: 0.2788 - val_loss: 0.0867 - val_mae: 0.4100\n",
      "Epoch 19/100\n",
      "8/8 [==============================] - 1s 91ms/step - loss: 0.0759 - mae: 0.2783 - val_loss: 0.0847 - val_mae: 0.4053\n",
      "Epoch 20/100\n",
      "8/8 [==============================] - 1s 90ms/step - loss: 0.0714 - mae: 0.2700 - val_loss: 0.0828 - val_mae: 0.4005\n",
      "Epoch 21/100\n",
      "8/8 [==============================] - 1s 88ms/step - loss: 0.0685 - mae: 0.2632 - val_loss: 0.0809 - val_mae: 0.3957\n",
      "Epoch 22/100\n",
      "8/8 [==============================] - 1s 88ms/step - loss: 0.0682 - mae: 0.2624 - val_loss: 0.0791 - val_mae: 0.3910\n",
      "Epoch 23/100\n",
      "8/8 [==============================] - 1s 91ms/step - loss: 0.0667 - mae: 0.2580 - val_loss: 0.0772 - val_mae: 0.3863\n",
      "Epoch 24/100\n",
      "8/8 [==============================] - 1s 88ms/step - loss: 0.0688 - mae: 0.2605 - val_loss: 0.0756 - val_mae: 0.3819\n",
      "Epoch 25/100\n",
      "8/8 [==============================] - 1s 91ms/step - loss: 0.0654 - mae: 0.2525 - val_loss: 0.0739 - val_mae: 0.3777\n",
      "Epoch 26/100\n",
      "8/8 [==============================] - 1s 118ms/step - loss: 0.0659 - mae: 0.2569 - val_loss: 0.0724 - val_mae: 0.3736\n",
      "Epoch 27/100\n",
      "8/8 [==============================] - 1s 108ms/step - loss: 0.0664 - mae: 0.2556 - val_loss: 0.0709 - val_mae: 0.3696\n",
      "Epoch 28/100\n",
      "8/8 [==============================] - 1s 90ms/step - loss: 0.0636 - mae: 0.2468 - val_loss: 0.0694 - val_mae: 0.3657\n",
      "Epoch 29/100\n",
      "8/8 [==============================] - 1s 90ms/step - loss: 0.0628 - mae: 0.2479 - val_loss: 0.0680 - val_mae: 0.3617\n",
      "Epoch 30/100\n",
      "8/8 [==============================] - 1s 107ms/step - loss: 0.0611 - mae: 0.2450 - val_loss: 0.0666 - val_mae: 0.3578\n",
      "Epoch 31/100\n",
      "8/8 [==============================] - 1s 89ms/step - loss: 0.0615 - mae: 0.2448 - val_loss: 0.0653 - val_mae: 0.3540\n",
      "Epoch 32/100\n",
      "8/8 [==============================] - 1s 97ms/step - loss: 0.0577 - mae: 0.2371 - val_loss: 0.0639 - val_mae: 0.3501\n",
      "Epoch 33/100\n",
      "8/8 [==============================] - 1s 88ms/step - loss: 0.0600 - mae: 0.2434 - val_loss: 0.0626 - val_mae: 0.3463\n",
      "Epoch 34/100\n",
      "8/8 [==============================] - 1s 89ms/step - loss: 0.0606 - mae: 0.2405 - val_loss: 0.0614 - val_mae: 0.3427\n",
      "Epoch 35/100\n",
      "8/8 [==============================] - 1s 89ms/step - loss: 0.0590 - mae: 0.2373 - val_loss: 0.0602 - val_mae: 0.3394\n",
      "Epoch 36/100\n",
      "8/8 [==============================] - 1s 88ms/step - loss: 0.0576 - mae: 0.2345 - val_loss: 0.0590 - val_mae: 0.3359\n",
      "Epoch 37/100\n",
      "8/8 [==============================] - 1s 88ms/step - loss: 0.0544 - mae: 0.2316 - val_loss: 0.0579 - val_mae: 0.3325\n",
      "Epoch 38/100\n",
      "8/8 [==============================] - 1s 97ms/step - loss: 0.0589 - mae: 0.2379 - val_loss: 0.0568 - val_mae: 0.3291\n",
      "Epoch 39/100\n",
      "8/8 [==============================] - 1s 91ms/step - loss: 0.0551 - mae: 0.2276 - val_loss: 0.0558 - val_mae: 0.3260\n",
      "Epoch 40/100\n",
      "8/8 [==============================] - 1s 96ms/step - loss: 0.0565 - mae: 0.2306 - val_loss: 0.0547 - val_mae: 0.3228\n",
      "Epoch 41/100\n",
      "8/8 [==============================] - 1s 98ms/step - loss: 0.0548 - mae: 0.2309 - val_loss: 0.0538 - val_mae: 0.3198\n",
      "Epoch 42/100\n",
      "8/8 [==============================] - 1s 110ms/step - loss: 0.0546 - mae: 0.2282 - val_loss: 0.0528 - val_mae: 0.3169\n",
      "Epoch 43/100\n",
      "8/8 [==============================] - 1s 88ms/step - loss: 0.0569 - mae: 0.2325 - val_loss: 0.0520 - val_mae: 0.3142\n",
      "Epoch 44/100\n",
      "8/8 [==============================] - 1s 87ms/step - loss: 0.0552 - mae: 0.2313 - val_loss: 0.0511 - val_mae: 0.3115\n",
      "Epoch 45/100\n",
      "8/8 [==============================] - 1s 87ms/step - loss: 0.0531 - mae: 0.2263 - val_loss: 0.0503 - val_mae: 0.3089\n",
      "Epoch 46/100\n",
      "8/8 [==============================] - 1s 100ms/step - loss: 0.0518 - mae: 0.2224 - val_loss: 0.0495 - val_mae: 0.3062\n",
      "Epoch 47/100\n",
      "8/8 [==============================] - 1s 97ms/step - loss: 0.0527 - mae: 0.2221 - val_loss: 0.0487 - val_mae: 0.3035\n",
      "Epoch 48/100\n",
      "8/8 [==============================] - 1s 96ms/step - loss: 0.0542 - mae: 0.2275 - val_loss: 0.0478 - val_mae: 0.3008\n",
      "Epoch 49/100\n",
      "8/8 [==============================] - 1s 88ms/step - loss: 0.0532 - mae: 0.2258 - val_loss: 0.0471 - val_mae: 0.2983\n",
      "Epoch 50/100\n",
      "8/8 [==============================] - 1s 87ms/step - loss: 0.0498 - mae: 0.2190 - val_loss: 0.0463 - val_mae: 0.2957\n",
      "Epoch 51/100\n",
      "8/8 [==============================] - 1s 87ms/step - loss: 0.0532 - mae: 0.2244 - val_loss: 0.0456 - val_mae: 0.2932\n",
      "Epoch 52/100\n",
      "8/8 [==============================] - 1s 88ms/step - loss: 0.0495 - mae: 0.2187 - val_loss: 0.0449 - val_mae: 0.2907\n",
      "Epoch 53/100\n",
      "8/8 [==============================] - 1s 100ms/step - loss: 0.0518 - mae: 0.2219 - val_loss: 0.0441 - val_mae: 0.2882\n",
      "Epoch 54/100\n",
      "8/8 [==============================] - 1s 88ms/step - loss: 0.0500 - mae: 0.2182 - val_loss: 0.0434 - val_mae: 0.2857\n",
      "Epoch 55/100\n",
      "8/8 [==============================] - 1s 116ms/step - loss: 0.0519 - mae: 0.2223 - val_loss: 0.0428 - val_mae: 0.2835\n",
      "Epoch 56/100\n",
      "8/8 [==============================] - 1s 89ms/step - loss: 0.0527 - mae: 0.2263 - val_loss: 0.0422 - val_mae: 0.2812\n",
      "Epoch 57/100\n",
      "8/8 [==============================] - 1s 89ms/step - loss: 0.0542 - mae: 0.2290 - val_loss: 0.0416 - val_mae: 0.2792\n",
      "Epoch 58/100\n",
      "8/8 [==============================] - 1s 87ms/step - loss: 0.0487 - mae: 0.2192 - val_loss: 0.0410 - val_mae: 0.2772\n",
      "Epoch 59/100\n",
      "8/8 [==============================] - 1s 100ms/step - loss: 0.0524 - mae: 0.2236 - val_loss: 0.0405 - val_mae: 0.2752\n",
      "Epoch 60/100\n",
      "8/8 [==============================] - 1s 87ms/step - loss: 0.0478 - mae: 0.2190 - val_loss: 0.0399 - val_mae: 0.2733\n",
      "Epoch 61/100\n",
      "8/8 [==============================] - 1s 88ms/step - loss: 0.0500 - mae: 0.2213 - val_loss: 0.0394 - val_mae: 0.2713\n",
      "Epoch 62/100\n",
      "8/8 [==============================] - 1s 89ms/step - loss: 0.0487 - mae: 0.2172 - val_loss: 0.0389 - val_mae: 0.2694\n",
      "Epoch 63/100\n",
      "8/8 [==============================] - 1s 88ms/step - loss: 0.0503 - mae: 0.2208 - val_loss: 0.0384 - val_mae: 0.2676\n",
      "Epoch 64/100\n",
      "8/8 [==============================] - 1s 89ms/step - loss: 0.0469 - mae: 0.2147 - val_loss: 0.0379 - val_mae: 0.2658\n",
      "Epoch 65/100\n",
      "8/8 [==============================] - 1s 97ms/step - loss: 0.0509 - mae: 0.2216 - val_loss: 0.0374 - val_mae: 0.2640\n",
      "Epoch 66/100\n",
      "8/8 [==============================] - 1s 98ms/step - loss: 0.0474 - mae: 0.2155 - val_loss: 0.0370 - val_mae: 0.2622\n",
      "Epoch 67/100\n",
      "8/8 [==============================] - 1s 91ms/step - loss: 0.0472 - mae: 0.2131 - val_loss: 0.0365 - val_mae: 0.2605\n",
      "Epoch 68/100\n",
      "8/8 [==============================] - 1s 96ms/step - loss: 0.0454 - mae: 0.2115 - val_loss: 0.0361 - val_mae: 0.2588\n",
      "Epoch 69/100\n",
      "8/8 [==============================] - 1s 85ms/step - loss: 0.0474 - mae: 0.2155 - val_loss: 0.0357 - val_mae: 0.2573\n",
      "Epoch 70/100\n",
      "8/8 [==============================] - 1s 88ms/step - loss: 0.0482 - mae: 0.2187 - val_loss: 0.0353 - val_mae: 0.2559\n",
      "Epoch 71/100\n",
      "8/8 [==============================] - 1s 96ms/step - loss: 0.0469 - mae: 0.2149 - val_loss: 0.0349 - val_mae: 0.2543\n",
      "Epoch 72/100\n",
      "8/8 [==============================] - 1s 99ms/step - loss: 0.0452 - mae: 0.2122 - val_loss: 0.0345 - val_mae: 0.2527\n",
      "Epoch 73/100\n",
      "8/8 [==============================] - 1s 87ms/step - loss: 0.0471 - mae: 0.2158 - val_loss: 0.0341 - val_mae: 0.2512\n",
      "Epoch 74/100\n",
      "8/8 [==============================] - 1s 107ms/step - loss: 0.0476 - mae: 0.2146 - val_loss: 0.0337 - val_mae: 0.2495\n",
      "Epoch 75/100\n",
      "8/8 [==============================] - 1s 90ms/step - loss: 0.0466 - mae: 0.2161 - val_loss: 0.0333 - val_mae: 0.2480\n",
      "Epoch 76/100\n",
      "8/8 [==============================] - 1s 92ms/step - loss: 0.0485 - mae: 0.2165 - val_loss: 0.0330 - val_mae: 0.2466\n",
      "Epoch 77/100\n",
      "8/8 [==============================] - 1s 89ms/step - loss: 0.0518 - mae: 0.2250 - val_loss: 0.0327 - val_mae: 0.2454\n",
      "Epoch 78/100\n",
      "8/8 [==============================] - 1s 96ms/step - loss: 0.0457 - mae: 0.2118 - val_loss: 0.0324 - val_mae: 0.2441\n",
      "Epoch 79/100\n",
      "8/8 [==============================] - 1s 99ms/step - loss: 0.0456 - mae: 0.2139 - val_loss: 0.0321 - val_mae: 0.2428\n",
      "Epoch 80/100\n",
      "8/8 [==============================] - 1s 110ms/step - loss: 0.0476 - mae: 0.2158 - val_loss: 0.0317 - val_mae: 0.2415\n",
      "Epoch 81/100\n",
      "8/8 [==============================] - 1s 94ms/step - loss: 0.0461 - mae: 0.2159 - val_loss: 0.0314 - val_mae: 0.2402\n",
      "Epoch 82/100\n",
      "8/8 [==============================] - 1s 91ms/step - loss: 0.0461 - mae: 0.2114 - val_loss: 0.0311 - val_mae: 0.2389\n",
      "Epoch 83/100\n",
      "8/8 [==============================] - 1s 90ms/step - loss: 0.0437 - mae: 0.2085 - val_loss: 0.0308 - val_mae: 0.2375\n",
      "Epoch 84/100\n",
      "8/8 [==============================] - 1s 101ms/step - loss: 0.0497 - mae: 0.2212 - val_loss: 0.0305 - val_mae: 0.2364\n",
      "Epoch 85/100\n",
      "8/8 [==============================] - 1s 87ms/step - loss: 0.0488 - mae: 0.2176 - val_loss: 0.0302 - val_mae: 0.2352\n",
      "Epoch 86/100\n",
      "8/8 [==============================] - 1s 89ms/step - loss: 0.0464 - mae: 0.2160 - val_loss: 0.0300 - val_mae: 0.2342\n",
      "Epoch 87/100\n",
      "8/8 [==============================] - 1s 90ms/step - loss: 0.0462 - mae: 0.2134 - val_loss: 0.0297 - val_mae: 0.2331\n",
      "Epoch 88/100\n",
      "8/8 [==============================] - 1s 91ms/step - loss: 0.0462 - mae: 0.2116 - val_loss: 0.0295 - val_mae: 0.2321\n",
      "Epoch 89/100\n",
      "8/8 [==============================] - 1s 98ms/step - loss: 0.0470 - mae: 0.2139 - val_loss: 0.0293 - val_mae: 0.2312\n",
      "Epoch 90/100\n",
      "8/8 [==============================] - 1s 88ms/step - loss: 0.0468 - mae: 0.2149 - val_loss: 0.0291 - val_mae: 0.2303\n",
      "Epoch 91/100\n",
      "8/8 [==============================] - 1s 90ms/step - loss: 0.0456 - mae: 0.2167 - val_loss: 0.0289 - val_mae: 0.2294\n",
      "Epoch 92/100\n",
      "8/8 [==============================] - 1s 111ms/step - loss: 0.0444 - mae: 0.2095 - val_loss: 0.0287 - val_mae: 0.2285\n",
      "Epoch 93/100\n",
      "8/8 [==============================] - 1s 96ms/step - loss: 0.0441 - mae: 0.2096 - val_loss: 0.0285 - val_mae: 0.2276\n",
      "Epoch 94/100\n",
      "8/8 [==============================] - 1s 89ms/step - loss: 0.0461 - mae: 0.2195 - val_loss: 0.0283 - val_mae: 0.2269\n",
      "Epoch 95/100\n",
      "8/8 [==============================] - 1s 89ms/step - loss: 0.0480 - mae: 0.2166 - val_loss: 0.0281 - val_mae: 0.2263\n",
      "Epoch 96/100\n",
      "8/8 [==============================] - 1s 88ms/step - loss: 0.0447 - mae: 0.2138 - val_loss: 0.0280 - val_mae: 0.2255\n",
      "Epoch 97/100\n",
      "8/8 [==============================] - 1s 99ms/step - loss: 0.0450 - mae: 0.2127 - val_loss: 0.0278 - val_mae: 0.2247\n",
      "Epoch 98/100\n",
      "8/8 [==============================] - 1s 100ms/step - loss: 0.0448 - mae: 0.2141 - val_loss: 0.0276 - val_mae: 0.2239\n",
      "Epoch 99/100\n",
      "8/8 [==============================] - 1s 90ms/step - loss: 0.0446 - mae: 0.2128 - val_loss: 0.0274 - val_mae: 0.2231\n",
      "Epoch 100/100\n",
      "8/8 [==============================] - 1s 89ms/step - loss: 0.0435 - mae: 0.2096 - val_loss: 0.0273 - val_mae: 0.2224\n"
     ]
    }
   ],
   "source": [
    "optimizer = tf.keras.optimizers.SGD(learning_rate=1.0000e-04, momentum=0.9)\n",
    "model.compile(\n",
    "    loss=tf.keras.losses.Huber(),\n",
    "    optimizer=optimizer,\n",
    "    metrics=[\"mae\"]\n",
    ")\n",
    "history = model.fit(\n",
    "    train_set,\n",
    "    epochs=100, \n",
    "    validation_data=val_set,\n",
    "    callbacks=[callback]\n",
    ")"
   ]
  },
  {
   "cell_type": "code",
   "execution_count": 98,
   "metadata": {},
   "outputs": [
    {
     "name": "stdout",
     "output_type": "stream",
     "text": [
      "Model: \"sequential_4\"\n",
      "_________________________________________________________________\n",
      " Layer (type)                Output Shape              Param #   \n",
      "=================================================================\n",
      " lstm_8 (LSTM)               (None, None, 60)          14880     \n",
      "                                                                 \n",
      " lstm_9 (LSTM)               (None, 60)                29040     \n",
      "                                                                 \n",
      " dense_12 (Dense)            (None, 30)                1830      \n",
      "                                                                 \n",
      " dropout_8 (Dropout)         (None, 30)                0         \n",
      "                                                                 \n",
      " dense_13 (Dense)            (None, 10)                310       \n",
      "                                                                 \n",
      " dropout_9 (Dropout)         (None, 10)                0         \n",
      "                                                                 \n",
      " dense_14 (Dense)            (None, 1)                 11        \n",
      "                                                                 \n",
      "=================================================================\n",
      "Total params: 46071 (179.96 KB)\n",
      "Trainable params: 46071 (179.96 KB)\n",
      "Non-trainable params: 0 (0.00 Byte)\n",
      "_________________________________________________________________\n"
     ]
    }
   ],
   "source": [
    "model.summary()"
   ]
  },
  {
   "cell_type": "code",
   "execution_count": null,
   "metadata": {},
   "outputs": [],
   "source": []
  },
  {
   "cell_type": "code",
   "execution_count": 15,
   "metadata": {},
   "outputs": [
    {
     "data": {
      "image/png": "[encoded data removed]",
      "text/plain": [
       "<Figure size 640x480 with 1 Axes>"
      ]
     },
     "metadata": {},
     "output_type": "display_data"
    }
   ],
   "source": [
    "# Plot all but the first 10\n",
    "loss = history.history['loss']\n",
    "epochs = range(10, len(loss))\n",
    "plot_loss = loss[10:]\n",
    "plt.plot(epochs, plot_loss, 'g', label='Training Loss')\n",
    "plt.show()"
   ]
  },
  {
   "cell_type": "code",
   "execution_count": 19,
   "metadata": {},
   "outputs": [
    {
     "name": "stdout",
     "output_type": "stream",
     "text": [
      "2/2 [==============================] - 0s 9ms/step\n"
     ]
    },
    {
     "ename": "ValueError",
     "evalue": "Expected 2D array, got 1D array instead:\narray=[0.16666667 0.16666667 0.16666667 ... 0.5        0.5        0.5       ].\nReshape your data either using array.reshape(-1, 1) if your data has a single feature or array.reshape(1, -1) if it contains a single sample.",
     "output_type": "error",
     "traceback": [
      "\u001b[0;31m---------------------------------------------------------------------------\u001b[0m",
      "\u001b[0;31mValueError\u001b[0m                                Traceback (most recent call last)",
      "\u001b[1;32m/Volumes/DataQ/Tugas Akhir/lstm-predict-potato-price/predict.ipynb Cell 18\u001b[0m line \u001b[0;36m3\n\u001b[1;32m      <a href='vscode-notebook-cell:/Volumes/DataQ/Tugas%20Akhir/lstm-predict-potato-price/predict.ipynb#X30sZmlsZQ%3D%3D?line=0'>1</a>\u001b[0m pred \u001b[39m=\u001b[39m model\u001b[39m.\u001b[39mpredict(df[\u001b[39m'\u001b[39m\u001b[39mharga\u001b[39m\u001b[39m'\u001b[39m][\u001b[39m0\u001b[39m:\u001b[39m60\u001b[39m])\n\u001b[1;32m      <a href='vscode-notebook-cell:/Volumes/DataQ/Tugas%20Akhir/lstm-predict-potato-price/predict.ipynb#X30sZmlsZQ%3D%3D?line=1'>2</a>\u001b[0m scaler \u001b[39m=\u001b[39m MinMaxScaler()\n\u001b[0;32m----> <a href='vscode-notebook-cell:/Volumes/DataQ/Tugas%20Akhir/lstm-predict-potato-price/predict.ipynb#X30sZmlsZQ%3D%3D?line=2'>3</a>\u001b[0m scaler\u001b[39m.\u001b[39;49mfit_transform(df[\u001b[39m'\u001b[39;49m\u001b[39mharga\u001b[39;49m\u001b[39m'\u001b[39;49m])\n\u001b[1;32m      <a href='vscode-notebook-cell:/Volumes/DataQ/Tugas%20Akhir/lstm-predict-potato-price/predict.ipynb#X30sZmlsZQ%3D%3D?line=4'>5</a>\u001b[0m scaler\u001b[39m.\u001b[39minverse_transform(pred\u001b[39m.\u001b[39mreshape(\u001b[39m-\u001b[39m\u001b[39m1\u001b[39m,\u001b[39m1\u001b[39m))\n",
      "File \u001b[0;32m/Volumes/DataQ/Tugas Akhir/lstm-predict-potato-price/venv/lib/python3.9/site-packages/sklearn/utils/_set_output.py:157\u001b[0m, in \u001b[0;36m_wrap_method_output.<locals>.wrapped\u001b[0;34m(self, X, *args, **kwargs)\u001b[0m\n\u001b[1;32m    155\u001b[0m \u001b[39m@wraps\u001b[39m(f)\n\u001b[1;32m    156\u001b[0m \u001b[39mdef\u001b[39;00m \u001b[39mwrapped\u001b[39m(\u001b[39mself\u001b[39m, X, \u001b[39m*\u001b[39margs, \u001b[39m*\u001b[39m\u001b[39m*\u001b[39mkwargs):\n\u001b[0;32m--> 157\u001b[0m     data_to_wrap \u001b[39m=\u001b[39m f(\u001b[39mself\u001b[39;49m, X, \u001b[39m*\u001b[39;49margs, \u001b[39m*\u001b[39;49m\u001b[39m*\u001b[39;49mkwargs)\n\u001b[1;32m    158\u001b[0m     \u001b[39mif\u001b[39;00m \u001b[39misinstance\u001b[39m(data_to_wrap, \u001b[39mtuple\u001b[39m):\n\u001b[1;32m    159\u001b[0m         \u001b[39m# only wrap the first output for cross decomposition\u001b[39;00m\n\u001b[1;32m    160\u001b[0m         return_tuple \u001b[39m=\u001b[39m (\n\u001b[1;32m    161\u001b[0m             _wrap_data_with_container(method, data_to_wrap[\u001b[39m0\u001b[39m], X, \u001b[39mself\u001b[39m),\n\u001b[1;32m    162\u001b[0m             \u001b[39m*\u001b[39mdata_to_wrap[\u001b[39m1\u001b[39m:],\n\u001b[1;32m    163\u001b[0m         )\n",
      "File \u001b[0;32m/Volumes/DataQ/Tugas Akhir/lstm-predict-potato-price/venv/lib/python3.9/site-packages/sklearn/base.py:916\u001b[0m, in \u001b[0;36mTransformerMixin.fit_transform\u001b[0;34m(self, X, y, **fit_params)\u001b[0m\n\u001b[1;32m    912\u001b[0m \u001b[39m# non-optimized default implementation; override when a better\u001b[39;00m\n\u001b[1;32m    913\u001b[0m \u001b[39m# method is possible for a given clustering algorithm\u001b[39;00m\n\u001b[1;32m    914\u001b[0m \u001b[39mif\u001b[39;00m y \u001b[39mis\u001b[39;00m \u001b[39mNone\u001b[39;00m:\n\u001b[1;32m    915\u001b[0m     \u001b[39m# fit method of arity 1 (unsupervised transformation)\u001b[39;00m\n\u001b[0;32m--> 916\u001b[0m     \u001b[39mreturn\u001b[39;00m \u001b[39mself\u001b[39;49m\u001b[39m.\u001b[39;49mfit(X, \u001b[39m*\u001b[39;49m\u001b[39m*\u001b[39;49mfit_params)\u001b[39m.\u001b[39mtransform(X)\n\u001b[1;32m    917\u001b[0m \u001b[39melse\u001b[39;00m:\n\u001b[1;32m    918\u001b[0m     \u001b[39m# fit method of arity 2 (supervised transformation)\u001b[39;00m\n\u001b[1;32m    919\u001b[0m     \u001b[39mreturn\u001b[39;00m \u001b[39mself\u001b[39m\u001b[39m.\u001b[39mfit(X, y, \u001b[39m*\u001b[39m\u001b[39m*\u001b[39mfit_params)\u001b[39m.\u001b[39mtransform(X)\n",
      "File \u001b[0;32m/Volumes/DataQ/Tugas Akhir/lstm-predict-potato-price/venv/lib/python3.9/site-packages/sklearn/preprocessing/_data.py:435\u001b[0m, in \u001b[0;36mMinMaxScaler.fit\u001b[0;34m(self, X, y)\u001b[0m\n\u001b[1;32m    433\u001b[0m \u001b[39m# Reset internal state before fitting\u001b[39;00m\n\u001b[1;32m    434\u001b[0m \u001b[39mself\u001b[39m\u001b[39m.\u001b[39m_reset()\n\u001b[0;32m--> 435\u001b[0m \u001b[39mreturn\u001b[39;00m \u001b[39mself\u001b[39;49m\u001b[39m.\u001b[39;49mpartial_fit(X, y)\n",
      "File \u001b[0;32m/Volumes/DataQ/Tugas Akhir/lstm-predict-potato-price/venv/lib/python3.9/site-packages/sklearn/base.py:1152\u001b[0m, in \u001b[0;36m_fit_context.<locals>.decorator.<locals>.wrapper\u001b[0;34m(estimator, *args, **kwargs)\u001b[0m\n\u001b[1;32m   1145\u001b[0m     estimator\u001b[39m.\u001b[39m_validate_params()\n\u001b[1;32m   1147\u001b[0m \u001b[39mwith\u001b[39;00m config_context(\n\u001b[1;32m   1148\u001b[0m     skip_parameter_validation\u001b[39m=\u001b[39m(\n\u001b[1;32m   1149\u001b[0m         prefer_skip_nested_validation \u001b[39mor\u001b[39;00m global_skip_validation\n\u001b[1;32m   1150\u001b[0m     )\n\u001b[1;32m   1151\u001b[0m ):\n\u001b[0;32m-> 1152\u001b[0m     \u001b[39mreturn\u001b[39;00m fit_method(estimator, \u001b[39m*\u001b[39;49margs, \u001b[39m*\u001b[39;49m\u001b[39m*\u001b[39;49mkwargs)\n",
      "File \u001b[0;32m/Volumes/DataQ/Tugas Akhir/lstm-predict-potato-price/venv/lib/python3.9/site-packages/sklearn/preprocessing/_data.py:473\u001b[0m, in \u001b[0;36mMinMaxScaler.partial_fit\u001b[0;34m(self, X, y)\u001b[0m\n\u001b[1;32m    467\u001b[0m     \u001b[39mraise\u001b[39;00m \u001b[39mTypeError\u001b[39;00m(\n\u001b[1;32m    468\u001b[0m         \u001b[39m\"\u001b[39m\u001b[39mMinMaxScaler does not support sparse input. \u001b[39m\u001b[39m\"\u001b[39m\n\u001b[1;32m    469\u001b[0m         \u001b[39m\"\u001b[39m\u001b[39mConsider using MaxAbsScaler instead.\u001b[39m\u001b[39m\"\u001b[39m\n\u001b[1;32m    470\u001b[0m     )\n\u001b[1;32m    472\u001b[0m first_pass \u001b[39m=\u001b[39m \u001b[39mnot\u001b[39;00m \u001b[39mhasattr\u001b[39m(\u001b[39mself\u001b[39m, \u001b[39m\"\u001b[39m\u001b[39mn_samples_seen_\u001b[39m\u001b[39m\"\u001b[39m)\n\u001b[0;32m--> 473\u001b[0m X \u001b[39m=\u001b[39m \u001b[39mself\u001b[39;49m\u001b[39m.\u001b[39;49m_validate_data(\n\u001b[1;32m    474\u001b[0m     X,\n\u001b[1;32m    475\u001b[0m     reset\u001b[39m=\u001b[39;49mfirst_pass,\n\u001b[1;32m    476\u001b[0m     dtype\u001b[39m=\u001b[39;49mFLOAT_DTYPES,\n\u001b[1;32m    477\u001b[0m     force_all_finite\u001b[39m=\u001b[39;49m\u001b[39m\"\u001b[39;49m\u001b[39mallow-nan\u001b[39;49m\u001b[39m\"\u001b[39;49m,\n\u001b[1;32m    478\u001b[0m )\n\u001b[1;32m    480\u001b[0m data_min \u001b[39m=\u001b[39m np\u001b[39m.\u001b[39mnanmin(X, axis\u001b[39m=\u001b[39m\u001b[39m0\u001b[39m)\n\u001b[1;32m    481\u001b[0m data_max \u001b[39m=\u001b[39m np\u001b[39m.\u001b[39mnanmax(X, axis\u001b[39m=\u001b[39m\u001b[39m0\u001b[39m)\n",
      "File \u001b[0;32m/Volumes/DataQ/Tugas Akhir/lstm-predict-potato-price/venv/lib/python3.9/site-packages/sklearn/base.py:605\u001b[0m, in \u001b[0;36mBaseEstimator._validate_data\u001b[0;34m(self, X, y, reset, validate_separately, cast_to_ndarray, **check_params)\u001b[0m\n\u001b[1;32m    603\u001b[0m         out \u001b[39m=\u001b[39m X, y\n\u001b[1;32m    604\u001b[0m \u001b[39melif\u001b[39;00m \u001b[39mnot\u001b[39;00m no_val_X \u001b[39mand\u001b[39;00m no_val_y:\n\u001b[0;32m--> 605\u001b[0m     out \u001b[39m=\u001b[39m check_array(X, input_name\u001b[39m=\u001b[39;49m\u001b[39m\"\u001b[39;49m\u001b[39mX\u001b[39;49m\u001b[39m\"\u001b[39;49m, \u001b[39m*\u001b[39;49m\u001b[39m*\u001b[39;49mcheck_params)\n\u001b[1;32m    606\u001b[0m \u001b[39melif\u001b[39;00m no_val_X \u001b[39mand\u001b[39;00m \u001b[39mnot\u001b[39;00m no_val_y:\n\u001b[1;32m    607\u001b[0m     out \u001b[39m=\u001b[39m _check_y(y, \u001b[39m*\u001b[39m\u001b[39m*\u001b[39mcheck_params)\n",
      "File \u001b[0;32m/Volumes/DataQ/Tugas Akhir/lstm-predict-potato-price/venv/lib/python3.9/site-packages/sklearn/utils/validation.py:938\u001b[0m, in \u001b[0;36mcheck_array\u001b[0;34m(array, accept_sparse, accept_large_sparse, dtype, order, copy, force_all_finite, ensure_2d, allow_nd, ensure_min_samples, ensure_min_features, estimator, input_name)\u001b[0m\n\u001b[1;32m    936\u001b[0m     \u001b[39m# If input is 1D raise error\u001b[39;00m\n\u001b[1;32m    937\u001b[0m     \u001b[39mif\u001b[39;00m array\u001b[39m.\u001b[39mndim \u001b[39m==\u001b[39m \u001b[39m1\u001b[39m:\n\u001b[0;32m--> 938\u001b[0m         \u001b[39mraise\u001b[39;00m \u001b[39mValueError\u001b[39;00m(\n\u001b[1;32m    939\u001b[0m             \u001b[39m\"\u001b[39m\u001b[39mExpected 2D array, got 1D array instead:\u001b[39m\u001b[39m\\n\u001b[39;00m\u001b[39marray=\u001b[39m\u001b[39m{}\u001b[39;00m\u001b[39m.\u001b[39m\u001b[39m\\n\u001b[39;00m\u001b[39m\"\u001b[39m\n\u001b[1;32m    940\u001b[0m             \u001b[39m\"\u001b[39m\u001b[39mReshape your data either using array.reshape(-1, 1) if \u001b[39m\u001b[39m\"\u001b[39m\n\u001b[1;32m    941\u001b[0m             \u001b[39m\"\u001b[39m\u001b[39myour data has a single feature or array.reshape(1, -1) \u001b[39m\u001b[39m\"\u001b[39m\n\u001b[1;32m    942\u001b[0m             \u001b[39m\"\u001b[39m\u001b[39mif it contains a single sample.\u001b[39m\u001b[39m\"\u001b[39m\u001b[39m.\u001b[39mformat(array)\n\u001b[1;32m    943\u001b[0m         )\n\u001b[1;32m    945\u001b[0m \u001b[39mif\u001b[39;00m dtype_numeric \u001b[39mand\u001b[39;00m \u001b[39mhasattr\u001b[39m(array\u001b[39m.\u001b[39mdtype, \u001b[39m\"\u001b[39m\u001b[39mkind\u001b[39m\u001b[39m\"\u001b[39m) \u001b[39mand\u001b[39;00m array\u001b[39m.\u001b[39mdtype\u001b[39m.\u001b[39mkind \u001b[39min\u001b[39;00m \u001b[39m\"\u001b[39m\u001b[39mUSV\u001b[39m\u001b[39m\"\u001b[39m:\n\u001b[1;32m    946\u001b[0m     \u001b[39mraise\u001b[39;00m \u001b[39mValueError\u001b[39;00m(\n\u001b[1;32m    947\u001b[0m         \u001b[39m\"\u001b[39m\u001b[39mdtype=\u001b[39m\u001b[39m'\u001b[39m\u001b[39mnumeric\u001b[39m\u001b[39m'\u001b[39m\u001b[39m is not compatible with arrays of bytes/strings.\u001b[39m\u001b[39m\"\u001b[39m\n\u001b[1;32m    948\u001b[0m         \u001b[39m\"\u001b[39m\u001b[39mConvert your data to numeric values explicitly instead.\u001b[39m\u001b[39m\"\u001b[39m\n\u001b[1;32m    949\u001b[0m     )\n",
      "\u001b[0;31mValueError\u001b[0m: Expected 2D array, got 1D array instead:\narray=[0.16666667 0.16666667 0.16666667 ... 0.5        0.5        0.5       ].\nReshape your data either using array.reshape(-1, 1) if your data has a single feature or array.reshape(1, -1) if it contains a single sample."
     ]
    }
   ],
   "source": [
    "pred = model.predict(df['harga'][0:60])\n",
    "scaler = MinMaxScaler()\n",
    "scaler.fit_transform(df['harga'])\n",
    "\n",
    "scaler.inverse_transform(pred.reshape(-1,1))"
   ]
  },
  {
   "cell_type": "code",
   "execution_count": 100,
   "metadata": {},
   "outputs": [],
   "source": [
    "def model_forecast(model, series, window_size, batch_size):\n",
    "    \"\"\"Uses an input model to generate predictions on data windows\n",
    "\n",
    "    Args:\n",
    "      model (TF Keras Model) - model that accepts data windows\n",
    "      series (array of float) - contains the values of the time series\n",
    "      window_size (int) - the number of time steps to include in the window\n",
    "      batch_size (int) - the batch size\n",
    "\n",
    "    Returns:\n",
    "      forecast (numpy array) - array containing predictions\n",
    "    \"\"\"\n",
    "\n",
    "    # Generate a TF Dataset from the series values\n",
    "    dataset = tf.data.Dataset.from_tensor_slices(series)\n",
    "\n",
    "    # Window the data but only take those with the specified size\n",
    "    dataset = dataset.window(window_size, shift=1, drop_remainder=True)\n",
    "\n",
    "    # Flatten the windows by putting its elements in a single batch\n",
    "    dataset = dataset.flat_map(lambda w: w.batch(window_size))\n",
    "    \n",
    "    # Create batches of windows\n",
    "    dataset = dataset.batch(batch_size).prefetch(1)\n",
    "    \n",
    "    # Get predictions on the entire dataset\n",
    "    forecast = model.predict(dataset)\n",
    "    \n",
    "    return forecast"
   ]
  },
  {
   "cell_type": "code",
   "execution_count": 101,
   "metadata": {},
   "outputs": [
    {
     "name": "stdout",
     "output_type": "stream",
     "text": [
      "8/8 [==============================] - 1s 44ms/step\n"
     ]
    }
   ],
   "source": [
    "frc = model_forecast(model, x_train, window_size=60, batch_size=100)"
   ]
  },
  {
   "cell_type": "code",
   "execution_count": 102,
   "metadata": {},
   "outputs": [],
   "source": [
    "def plot_series(x, y, format=\"-\", start=0, end=None, \n",
    "                title=None, xlabel=None, ylabel=None, legend=None ):\n",
    "    \"\"\"\n",
    "    Visualizes time series data\n",
    "\n",
    "    Args:\n",
    "      x (array of int) - contains values for the x-axis\n",
    "      y (array of int or tuple of arrays) - contains the values for the y-axis\n",
    "      format (string) - line style when plotting the graph\n",
    "      start (int) - first time step to plot\n",
    "      end (int) - last time step to plot\n",
    "      title (string) - title of the plot\n",
    "      xlabel (string) - label for the x-axis\n",
    "      ylabel (string) - label for the y-axis\n",
    "      legend (list of strings) - legend for the plot\n",
    "    \"\"\"\n",
    "\n",
    "    # Setup dimensions of the graph figure\n",
    "    plt.figure(figsize=(10, 6))\n",
    "    \n",
    "    # Check if there are more than two series to plot\n",
    "    if type(y) is tuple:\n",
    "\n",
    "      # Loop over the y elements\n",
    "      for y_curr in y:\n",
    "\n",
    "        # Plot the x and current y values\n",
    "        plt.plot(x[start:end], y_curr[start:end], format)\n",
    "\n",
    "    else:\n",
    "      # Plot the x and y values\n",
    "      plt.plot(x[start:end], y[start:end], format)\n",
    "\n",
    "    # Label the x-axis\n",
    "    plt.xlabel(xlabel)\n",
    "\n",
    "    # Label the y-axis\n",
    "    plt.ylabel(ylabel)\n",
    "\n",
    "    # Set the legend\n",
    "    if legend:\n",
    "      plt.legend(legend)\n",
    "\n",
    "    # Set the title\n",
    "    plt.title(title)\n",
    "\n",
    "    # Overlay a grid on the graph\n",
    "    plt.grid(True)\n",
    "\n",
    "    # Draw the graph on screen\n",
    "    plt.show()"
   ]
  },
  {
   "cell_type": "code",
   "execution_count": 113,
   "metadata": {},
   "outputs": [
    {
     "name": "stdout",
     "output_type": "stream",
     "text": [
      "2/2 [==============================] - 0s 12ms/step\n"
     ]
    },
    {
     "data": {
      "text/plain": [
       "array([[0.21022086],\n",
       "       [0.21022086],\n",
       "       [0.21022086],\n",
       "       [0.21022086],\n",
       "       [0.21022086],\n",
       "       [0.21022086],\n",
       "       [0.21022086],\n",
       "       [0.21022086],\n",
       "       [0.21022086],\n",
       "       [0.21022086],\n",
       "       [0.21022086],\n",
       "       [0.21022086],\n",
       "       [0.21022086],\n",
       "       [0.21022086],\n",
       "       [0.21022086],\n",
       "       [0.20881799],\n",
       "       [0.20742269],\n",
       "       [0.20742269],\n",
       "       [0.20742269],\n",
       "       [0.20742269],\n",
       "       [0.20742269],\n",
       "       [0.20742269],\n",
       "       [0.20742269],\n",
       "       [0.20742269],\n",
       "       [0.20742269],\n",
       "       [0.20742269],\n",
       "       [0.20742269],\n",
       "       [0.20742269],\n",
       "       [0.20742269],\n",
       "       [0.20742269],\n",
       "       [0.2074227 ],\n",
       "       [0.2074227 ],\n",
       "       [0.20742269],\n",
       "       [0.20742269],\n",
       "       [0.20742269],\n",
       "       [0.20742269],\n",
       "       [0.20742269],\n",
       "       [0.20742269],\n",
       "       [0.20742269],\n",
       "       [0.20742269],\n",
       "       [0.20742269],\n",
       "       [0.20742269],\n",
       "       [0.20742269],\n",
       "       [0.20742269],\n",
       "       [0.20742269],\n",
       "       [0.20742269],\n",
       "       [0.20742269],\n",
       "       [0.20742269],\n",
       "       [0.20742269],\n",
       "       [0.20742269],\n",
       "       [0.20742269],\n",
       "       [0.20742269],\n",
       "       [0.20742269],\n",
       "       [0.20742269],\n",
       "       [0.20742269],\n",
       "       [0.20742269],\n",
       "       [0.20742269],\n",
       "       [0.20742269],\n",
       "       [0.20742269],\n",
       "       [0.20742269]], dtype=float32)"
      ]
     },
     "execution_count": 113,
     "metadata": {},
     "output_type": "execute_result"
    }
   ],
   "source": [
    "forecast = model.predict(df_new[0:60])\n",
    "forecast"
   ]
  }
 ],
 "metadata": {
  "kernelspec": {
   "display_name": "venv",
   "language": "python",
   "name": "python3"
  },
  "language_info": {
   "codemirror_mode": {
    "name": "ipython",
    "version": 3
   },
   "file_extension": ".py",
   "mimetype": "text/x-python",
   "name": "python",
   "nbconvert_exporter": "python",
   "pygments_lexer": "ipython3",
   "version": "3.9.6"
  }
 },
 "nbformat": 4,
 "nbformat_minor": 2
}
