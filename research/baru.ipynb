{
 "cells": [
  {
   "cell_type": "code",
   "execution_count": 3,
   "id": "879e145b-ba16-4269-8492-7a798457fd02",
   "metadata": {
    "tags": []
   },
   "outputs": [],
   "source": [
    "import numpy as np # linear algebra\n",
    "import pandas as pd # data processing, CSV file I/O (e.g. pd.read_csv)\n",
    "import matplotlib.pyplot as plt\n",
    "import math, time\n",
    "import itertools\n",
    "from sklearn import preprocessing\n",
    "import datetime\n",
    "from operator import itemgetter\n",
    "from sklearn.preprocessing import MinMaxScaler\n",
    "from sklearn.metrics import mean_squared_error\n",
    "from math import sqrt\n",
    "from keras.models import Sequential\n",
    "from keras.layers import Dense, Dropout, Activation\n",
    "from keras.layers import LSTM\n",
    "from keras.models import load_model\n",
    "import keras\n",
    "import h5py\n",
    "import requests\n",
    "import os\n",
    "\n",
    "\n",
    "# Any results you write to the current directory are saved as output"
   ]
  },
  {
   "cell_type": "code",
   "execution_count": 4,
   "id": "eef27f71-d7c5-42be-a4ba-fcd6f99ea39b",
   "metadata": {
    "tags": []
   },
   "outputs": [],
   "source": [
    "\"\"\"memasukan dataset harga bawang yang berbentuk excel ke dalam jupiter nootbook\"\"\"\n",
    "data_df = pd.read_csv('data/timeseries-KTG-wonosobo.csv')"
   ]
  },
  {
   "cell_type": "code",
   "execution_count": 5,
   "id": "48cb251b-7ab8-4239-83ff-17f7a25be1d9",
   "metadata": {
    "tags": []
   },
   "outputs": [
    {
     "data": {
      "text/html": [
       "<div>\n",
       "<style scoped>\n",
       "    .dataframe tbody tr th:only-of-type {\n",
       "        vertical-align: middle;\n",
       "    }\n",
       "\n",
       "    .dataframe tbody tr th {\n",
       "        vertical-align: top;\n",
       "    }\n",
       "\n",
       "    .dataframe thead th {\n",
       "        text-align: right;\n",
       "    }\n",
       "</style>\n",
       "<table border=\"1\" class=\"dataframe\">\n",
       "  <thead>\n",
       "    <tr style=\"text-align: right;\">\n",
       "      <th></th>\n",
       "      <th>tanggal</th>\n",
       "      <th>harga</th>\n",
       "    </tr>\n",
       "  </thead>\n",
       "  <tbody>\n",
       "    <tr>\n",
       "      <th>0</th>\n",
       "      <td>2021-01-01</td>\n",
       "      <td>9000.0</td>\n",
       "    </tr>\n",
       "    <tr>\n",
       "      <th>1</th>\n",
       "      <td>2021-01-02</td>\n",
       "      <td>9000.0</td>\n",
       "    </tr>\n",
       "    <tr>\n",
       "      <th>2</th>\n",
       "      <td>2021-01-03</td>\n",
       "      <td>9000.0</td>\n",
       "    </tr>\n",
       "    <tr>\n",
       "      <th>3</th>\n",
       "      <td>2021-01-04</td>\n",
       "      <td>9000.0</td>\n",
       "    </tr>\n",
       "    <tr>\n",
       "      <th>4</th>\n",
       "      <td>2021-01-05</td>\n",
       "      <td>9000.0</td>\n",
       "    </tr>\n",
       "    <tr>\n",
       "      <th>...</th>\n",
       "      <td>...</td>\n",
       "      <td>...</td>\n",
       "    </tr>\n",
       "    <tr>\n",
       "      <th>1035</th>\n",
       "      <td>2023-11-16</td>\n",
       "      <td>11000.0</td>\n",
       "    </tr>\n",
       "    <tr>\n",
       "      <th>1036</th>\n",
       "      <td>2023-11-17</td>\n",
       "      <td>11000.0</td>\n",
       "    </tr>\n",
       "    <tr>\n",
       "      <th>1037</th>\n",
       "      <td>2023-11-18</td>\n",
       "      <td>11000.0</td>\n",
       "    </tr>\n",
       "    <tr>\n",
       "      <th>1038</th>\n",
       "      <td>2023-11-19</td>\n",
       "      <td>11000.0</td>\n",
       "    </tr>\n",
       "    <tr>\n",
       "      <th>1039</th>\n",
       "      <td>2023-11-20</td>\n",
       "      <td>11000.0</td>\n",
       "    </tr>\n",
       "  </tbody>\n",
       "</table>\n",
       "<p>1040 rows × 2 columns</p>\n",
       "</div>"
      ],
      "text/plain": [
       "         tanggal    harga\n",
       "0     2021-01-01   9000.0\n",
       "1     2021-01-02   9000.0\n",
       "2     2021-01-03   9000.0\n",
       "3     2021-01-04   9000.0\n",
       "4     2021-01-05   9000.0\n",
       "...          ...      ...\n",
       "1035  2023-11-16  11000.0\n",
       "1036  2023-11-17  11000.0\n",
       "1037  2023-11-18  11000.0\n",
       "1038  2023-11-19  11000.0\n",
       "1039  2023-11-20  11000.0\n",
       "\n",
       "[1040 rows x 2 columns]"
      ]
     },
     "execution_count": 5,
     "metadata": {},
     "output_type": "execute_result"
    }
   ],
   "source": [
    "data_df = data_df[['tanggal','harga']]\n",
    "data_df"
   ]
  },
  {
   "cell_type": "code",
   "execution_count": 22,
   "id": "f46a095b-b789-4668-b858-39a459975fa9",
   "metadata": {
    "tags": []
   },
   "outputs": [],
   "source": [
    "#\"\"\"menghapus colom yang tidak diperlukan akan muncul kolom2 yang tidak disebutkan didalam code tersebut\"\"\"\n",
    "#data_df = data_df.drop(columns=['id','Kab/Kota', 'Tingkat Harga', 'BMB', 'BPI', 'BPL', 'BNC', 'CMB','CMK', 'CRH', 'CRM', \n",
    "#                      'KBK', 'KTG', 'KLB', 'KLG', 'MTM', 'TMT', 'WRT', 'CHB',])"
   ]
  },
  {
   "cell_type": "code",
   "execution_count": 23,
   "id": "f90c4bb3-3267-4be6-bd68-0f8486468ffd",
   "metadata": {
    "tags": []
   },
   "outputs": [],
   "source": [
    "#data_df"
   ]
  },
  {
   "cell_type": "code",
   "execution_count": 24,
   "id": "4bf73136-944d-4bbc-8833-134171b0d410",
   "metadata": {
    "tags": []
   },
   "outputs": [
    {
     "data": {
      "text/plain": [
       "Index(['2021-01-01', '2021-01-02', '2021-01-03', '2021-01-04', '2021-01-05',\n",
       "       '2021-01-06', '2021-01-07', '2021-01-08', '2021-01-09', '2021-01-10',\n",
       "       ...\n",
       "       '2023-11-26', '2023-11-27', '2023-11-28', '2023-11-29', '2023-11-30',\n",
       "       '2023-12-01', '2023-12-02', '2023-12-03', '2023-12-04', '2023-12-05'],\n",
       "      dtype='object', name='tanggal', length=1055)"
      ]
     },
     "execution_count": 24,
     "metadata": {},
     "output_type": "execute_result"
    }
   ],
   "source": [
    "con = data_df['tanggal']\n",
    "data_df['Tanggal']=pd.to_datetime(data_df['tanggal'])\n",
    "data_df.set_index('tanggal', inplace=True)\n",
    "#check datatype of index\n",
    "data_df.index"
   ]
  },
  {
   "cell_type": "code",
   "execution_count": 25,
   "id": "778a0dd7-ce8c-48a0-b59d-991e67ad55e7",
   "metadata": {
    "tags": []
   },
   "outputs": [],
   "source": [
    "# Visualize the closing price history\n",
    "#plt.figure(figsize=(16,8))\n",
    "#plt.title(\"BMK Price History\")\n",
    "#plt.plot(data_df['BMK'])\n",
    "#plt.xlabel('Date', fontsize=18)\n",
    "#plt.ylabel('BMK Price Rupiah (Rp)', fontsize=18)\n",
    "#plt.show()"
   ]
  },
  {
   "cell_type": "code",
   "execution_count": 26,
   "id": "8d36922a-ec74-4f0a-9055-e5501233aaf9",
   "metadata": {
    "tags": []
   },
   "outputs": [],
   "source": [
    "#data_df['tanggal'] = data_df.index\n",
    "#data_df.head()"
   ]
  },
  {
   "cell_type": "code",
   "execution_count": 27,
   "id": "00fd719f-5617-419a-ae22-52e68500c14a",
   "metadata": {
    "tags": []
   },
   "outputs": [],
   "source": [
    "#data_df['tanggal'] = pd.to_datetime(data_df['tanggal'])"
   ]
  },
  {
   "cell_type": "code",
   "execution_count": 28,
   "id": "8eaba4f6-3248-41a1-8539-91cbf82f21ce",
   "metadata": {
    "tags": []
   },
   "outputs": [
    {
     "data": {
      "text/html": [
       "<div>\n",
       "<style scoped>\n",
       "    .dataframe tbody tr th:only-of-type {\n",
       "        vertical-align: middle;\n",
       "    }\n",
       "\n",
       "    .dataframe tbody tr th {\n",
       "        vertical-align: top;\n",
       "    }\n",
       "\n",
       "    .dataframe thead th {\n",
       "        text-align: right;\n",
       "    }\n",
       "</style>\n",
       "<table border=\"1\" class=\"dataframe\">\n",
       "  <thead>\n",
       "    <tr style=\"text-align: right;\">\n",
       "      <th></th>\n",
       "      <th>harga</th>\n",
       "      <th>Tanggal</th>\n",
       "    </tr>\n",
       "    <tr>\n",
       "      <th>tanggal</th>\n",
       "      <th></th>\n",
       "      <th></th>\n",
       "    </tr>\n",
       "  </thead>\n",
       "  <tbody>\n",
       "    <tr>\n",
       "      <th>2021-01-01</th>\n",
       "      <td>9000.0</td>\n",
       "      <td>2021-01-01</td>\n",
       "    </tr>\n",
       "    <tr>\n",
       "      <th>2021-01-02</th>\n",
       "      <td>9000.0</td>\n",
       "      <td>2021-01-02</td>\n",
       "    </tr>\n",
       "    <tr>\n",
       "      <th>2021-01-03</th>\n",
       "      <td>9000.0</td>\n",
       "      <td>2021-01-03</td>\n",
       "    </tr>\n",
       "    <tr>\n",
       "      <th>2021-01-04</th>\n",
       "      <td>9000.0</td>\n",
       "      <td>2021-01-04</td>\n",
       "    </tr>\n",
       "    <tr>\n",
       "      <th>2021-01-05</th>\n",
       "      <td>9000.0</td>\n",
       "      <td>2021-01-05</td>\n",
       "    </tr>\n",
       "  </tbody>\n",
       "</table>\n",
       "</div>"
      ],
      "text/plain": [
       "             harga    Tanggal\n",
       "tanggal                      \n",
       "2021-01-01  9000.0 2021-01-01\n",
       "2021-01-02  9000.0 2021-01-02\n",
       "2021-01-03  9000.0 2021-01-03\n",
       "2021-01-04  9000.0 2021-01-04\n",
       "2021-01-05  9000.0 2021-01-05"
      ]
     },
     "execution_count": 28,
     "metadata": {},
     "output_type": "execute_result"
    }
   ],
   "source": [
    "data_df.head()"
   ]
  },
  {
   "cell_type": "code",
   "execution_count": 29,
   "id": "3e00efa2-8ed7-4cb3-b47d-253e53d002f4",
   "metadata": {
    "tags": []
   },
   "outputs": [],
   "source": [
    "min_max_scaler = preprocessing.MinMaxScaler(feature_range=(0, 1))\n",
    "dataset = min_max_scaler.fit_transform(data_df['harga'].values.reshape(-1, 1))"
   ]
  },
  {
   "cell_type": "code",
   "execution_count": 30,
   "id": "54f47ce5-ecfa-4f7e-8ae3-6ddf21426dfc",
   "metadata": {
    "tags": []
   },
   "outputs": [
    {
     "data": {
      "text/plain": [
       "array([[0.16666667],\n",
       "       [0.16666667],\n",
       "       [0.16666667],\n",
       "       [0.16666667],\n",
       "       [0.16666667],\n",
       "       [0.16666667],\n",
       "       [0.16666667],\n",
       "       [0.16666667],\n",
       "       [0.16666667],\n",
       "       [0.16666667]])"
      ]
     },
     "execution_count": 30,
     "metadata": {},
     "output_type": "execute_result"
    }
   ],
   "source": [
    "dataset[0:10]"
   ]
  },
  {
   "cell_type": "code",
   "execution_count": 31,
   "id": "1c931b44-c957-41b4-9576-e638952516a2",
   "metadata": {
    "tags": []
   },
   "outputs": [
    {
     "name": "stdout",
     "output_type": "stream",
     "text": [
      "738 317\n"
     ]
    }
   ],
   "source": [
    "# split into train and test sets\n",
    "train_size = int(len(dataset) * 0.7)\n",
    "test_size = len(dataset) - train_size\n",
    "train, test = dataset[0:train_size,:], dataset[train_size:len(dataset),:]\n",
    "print(len(train), len(test))"
   ]
  },
  {
   "cell_type": "code",
   "execution_count": null,
   "id": "0cf84665-6e21-4b1a-a4ac-57b1264963b1",
   "metadata": {
    "tags": []
   },
   "outputs": [],
   "source": []
  },
  {
   "cell_type": "code",
   "execution_count": 32,
   "id": "c430dbad-3972-4f31-a995-792913ef9f0a",
   "metadata": {
    "tags": []
   },
   "outputs": [],
   "source": [
    "#print(len(data_df))\n",
    "#print(780 + 195)"
   ]
  },
  {
   "cell_type": "code",
   "execution_count": 33,
   "id": "bb85eac1-5a3f-4397-89d3-eb2e87e77920",
   "metadata": {
    "tags": []
   },
   "outputs": [],
   "source": [
    "# convert an array of values into a dataset matrix\n",
    "def create_dataset(dataset, look_back=15):\n",
    "    dataX, dataY = [], []\n",
    "    for i in range(len(dataset)-look_back-1):\n",
    "        a = dataset[i:(i+look_back), 0]\n",
    "        dataX.append(a)\n",
    "        dataY.append(dataset[i + look_back, 0])\n",
    "    return np.array(dataX), np.array(dataY)"
   ]
  },
  {
   "cell_type": "code",
   "execution_count": 34,
   "id": "e1ea04cd-ec14-4993-b5b7-5d107a747d6e",
   "metadata": {
    "tags": []
   },
   "outputs": [],
   "source": [
    "x_train, y_train = create_dataset(train, look_back=15)\n",
    "x_test, y_test = create_dataset(test, look_back=15)"
   ]
  },
  {
   "cell_type": "code",
   "execution_count": 35,
   "id": "d0239534-4855-4495-a301-e29e1e7c7ce0",
   "metadata": {
    "tags": []
   },
   "outputs": [
    {
     "name": "stdout",
     "output_type": "stream",
     "text": [
      "(722, 15)\n",
      "(722,)\n",
      "(301, 15)\n",
      "(301,)\n"
     ]
    }
   ],
   "source": [
    "print(x_train.shape)\n",
    "print(y_train.shape)\n",
    "print(x_test.shape)\n",
    "print(y_test.shape)"
   ]
  },
  {
   "cell_type": "code",
   "execution_count": 36,
   "id": "f246e296-f86c-4708-b679-6f94f94ea09b",
   "metadata": {
    "tags": []
   },
   "outputs": [],
   "source": [
    "#print(x_train)\n",
    "#print(y_train)\n",
    "#print(x_test)\n",
    "#print(y_test)"
   ]
  },
  {
   "cell_type": "code",
   "execution_count": 37,
   "id": "73e4a6e4-5464-4356-89d8-bea1d9ba7573",
   "metadata": {
    "tags": []
   },
   "outputs": [],
   "source": [
    "x_train = np.reshape(x_train, (x_train.shape[0], 1, x_train.shape[1]))\n",
    "x_test = np.reshape(x_test, (x_test.shape[0], 1, x_test.shape[1]))"
   ]
  },
  {
   "cell_type": "code",
   "execution_count": null,
   "id": "e7b9534a-8182-452d-9d6f-3e8af1d2c994",
   "metadata": {
    "tags": []
   },
   "outputs": [],
   "source": []
  },
  {
   "cell_type": "code",
   "execution_count": 38,
   "id": "acf60589-fd5a-4138-9813-6ef842ad2fbd",
   "metadata": {
    "tags": []
   },
   "outputs": [
    {
     "name": "stdout",
     "output_type": "stream",
     "text": [
      "Epoch 1/50\n"
     ]
    },
    {
     "name": "stdout",
     "output_type": "stream",
     "text": [
      "722/722 - 11s - loss: 0.0042 - 11s/epoch - 16ms/step\n",
      "Epoch 2/50\n",
      "722/722 - 5s - loss: 0.0014 - 5s/epoch - 6ms/step\n",
      "Epoch 3/50\n",
      "722/722 - 5s - loss: 0.0012 - 5s/epoch - 6ms/step\n",
      "Epoch 4/50\n",
      "722/722 - 5s - loss: 0.0011 - 5s/epoch - 6ms/step\n",
      "Epoch 5/50\n",
      "722/722 - 5s - loss: 9.8529e-04 - 5s/epoch - 7ms/step\n",
      "Epoch 6/50\n",
      "722/722 - 5s - loss: 9.0546e-04 - 5s/epoch - 6ms/step\n",
      "Epoch 7/50\n",
      "722/722 - 5s - loss: 9.6674e-04 - 5s/epoch - 7ms/step\n",
      "Epoch 8/50\n",
      "722/722 - 7s - loss: 8.7336e-04 - 7s/epoch - 10ms/step\n",
      "Epoch 9/50\n",
      "722/722 - 6s - loss: 8.1596e-04 - 6s/epoch - 9ms/step\n",
      "Epoch 10/50\n",
      "722/722 - 5s - loss: 7.9675e-04 - 5s/epoch - 7ms/step\n",
      "Epoch 11/50\n",
      "722/722 - 1s - loss: 7.9799e-04 - 1s/epoch - 2ms/step\n",
      "Epoch 12/50\n",
      "722/722 - 1s - loss: 7.8835e-04 - 1s/epoch - 2ms/step\n",
      "Epoch 13/50\n",
      "722/722 - 1s - loss: 7.9023e-04 - 1s/epoch - 2ms/step\n",
      "Epoch 14/50\n",
      "722/722 - 1s - loss: 8.0402e-04 - 1s/epoch - 2ms/step\n",
      "Epoch 15/50\n",
      "722/722 - 2s - loss: 7.1765e-04 - 2s/epoch - 2ms/step\n",
      "Epoch 16/50\n",
      "722/722 - 1s - loss: 7.4624e-04 - 1s/epoch - 2ms/step\n",
      "Epoch 17/50\n",
      "722/722 - 1s - loss: 7.4220e-04 - 1s/epoch - 2ms/step\n",
      "Epoch 18/50\n",
      "722/722 - 1s - loss: 7.4795e-04 - 1s/epoch - 1ms/step\n",
      "Epoch 19/50\n",
      "722/722 - 1s - loss: 7.6378e-04 - 1s/epoch - 2ms/step\n",
      "Epoch 20/50\n",
      "722/722 - 1s - loss: 7.9724e-04 - 1s/epoch - 2ms/step\n",
      "Epoch 21/50\n",
      "722/722 - 1s - loss: 7.5207e-04 - 1s/epoch - 1ms/step\n",
      "Epoch 22/50\n",
      "722/722 - 1s - loss: 7.5247e-04 - 973ms/epoch - 1ms/step\n",
      "Epoch 23/50\n",
      "722/722 - 1s - loss: 7.6885e-04 - 979ms/epoch - 1ms/step\n",
      "Epoch 24/50\n",
      "722/722 - 1s - loss: 7.3868e-04 - 977ms/epoch - 1ms/step\n",
      "Epoch 25/50\n",
      "722/722 - 1s - loss: 7.5359e-04 - 973ms/epoch - 1ms/step\n",
      "Epoch 26/50\n",
      "722/722 - 1s - loss: 7.1295e-04 - 967ms/epoch - 1ms/step\n",
      "Epoch 27/50\n",
      "722/722 - 1s - loss: 7.5748e-04 - 971ms/epoch - 1ms/step\n",
      "Epoch 28/50\n",
      "722/722 - 1s - loss: 7.1192e-04 - 977ms/epoch - 1ms/step\n",
      "Epoch 29/50\n",
      "722/722 - 1s - loss: 7.6020e-04 - 1s/epoch - 2ms/step\n",
      "Epoch 30/50\n",
      "722/722 - 1s - loss: 7.4049e-04 - 1s/epoch - 2ms/step\n",
      "Epoch 31/50\n",
      "722/722 - 1s - loss: 7.2774e-04 - 1s/epoch - 1ms/step\n",
      "Epoch 32/50\n",
      "722/722 - 1s - loss: 7.0411e-04 - 1s/epoch - 2ms/step\n",
      "Epoch 33/50\n",
      "722/722 - 1s - loss: 7.2027e-04 - 981ms/epoch - 1ms/step\n",
      "Epoch 34/50\n",
      "722/722 - 2s - loss: 7.3382e-04 - 2s/epoch - 3ms/step\n",
      "Epoch 35/50\n",
      "722/722 - 1s - loss: 7.1809e-04 - 1s/epoch - 2ms/step\n",
      "Epoch 36/50\n",
      "722/722 - 1s - loss: 7.5902e-04 - 1s/epoch - 2ms/step\n",
      "Epoch 37/50\n",
      "722/722 - 1s - loss: 6.9986e-04 - 1s/epoch - 2ms/step\n",
      "Epoch 38/50\n",
      "722/722 - 1s - loss: 7.0931e-04 - 1s/epoch - 1ms/step\n",
      "Epoch 39/50\n",
      "722/722 - 1s - loss: 6.9250e-04 - 1s/epoch - 2ms/step\n",
      "Epoch 40/50\n",
      "722/722 - 2s - loss: 7.2690e-04 - 2s/epoch - 3ms/step\n",
      "Epoch 41/50\n",
      "722/722 - 4s - loss: 7.1684e-04 - 4s/epoch - 5ms/step\n",
      "Epoch 42/50\n",
      "722/722 - 3s - loss: 7.3120e-04 - 3s/epoch - 5ms/step\n",
      "Epoch 43/50\n",
      "722/722 - 2s - loss: 7.4317e-04 - 2s/epoch - 3ms/step\n",
      "Epoch 44/50\n",
      "722/722 - 2s - loss: 6.9790e-04 - 2s/epoch - 3ms/step\n",
      "Epoch 45/50\n",
      "722/722 - 3s - loss: 6.3866e-04 - 3s/epoch - 4ms/step\n",
      "Epoch 46/50\n",
      "722/722 - 1s - loss: 6.9127e-04 - 1s/epoch - 2ms/step\n",
      "Epoch 47/50\n",
      "722/722 - 2s - loss: 7.4390e-04 - 2s/epoch - 2ms/step\n",
      "Epoch 48/50\n",
      "722/722 - 2s - loss: 6.9247e-04 - 2s/epoch - 2ms/step\n",
      "Epoch 49/50\n",
      "722/722 - 2s - loss: 6.7242e-04 - 2s/epoch - 2ms/step\n",
      "Epoch 50/50\n",
      "722/722 - 2s - loss: 6.8110e-04 - 2s/epoch - 3ms/step\n"
     ]
    },
    {
     "data": {
      "text/plain": [
       "<keras.src.callbacks.History at 0x131ecc850>"
      ]
     },
     "execution_count": 38,
     "metadata": {},
     "output_type": "execute_result"
    }
   ],
   "source": [
    "look_back = 15\n",
    "model = Sequential()\n",
    "model.add(LSTM(20, input_shape=(1, look_back)))\n",
    "model.add(Dense(1))\n",
    "\n",
    "#set loss fungsi dan optimizer\n",
    "model.compile(loss='mean_squared_error', optimizer='adam')\n",
    "\n",
    "model.fit(x_train, y_train, epochs=50, batch_size=1, verbose=2)"
   ]
  },
  {
   "cell_type": "code",
   "execution_count": 39,
   "id": "4e8da9dc-5c31-4fa7-9c73-55d9047e0fe7",
   "metadata": {
    "tags": []
   },
   "outputs": [
    {
     "name": "stdout",
     "output_type": "stream",
     "text": [
      "23/23 [==============================] - 1s 3ms/step\n",
      "10/10 [==============================] - 0s 3ms/step\n",
      "Train Score: 149.44 RMSE\n",
      "Test Score: 321.54 RMSE\n"
     ]
    }
   ],
   "source": [
    "trainPredict = model.predict(x_train)\n",
    "testPredict = model.predict(x_test)\n",
    "\n",
    "# invert predictions\n",
    "trainPredict = min_max_scaler.inverse_transform(trainPredict)\n",
    "trainY = min_max_scaler.inverse_transform([y_train])\n",
    "testPredict = min_max_scaler.inverse_transform(testPredict)\n",
    "testY = min_max_scaler.inverse_transform([y_test])\n",
    "\n",
    "# calculate root mean squared error\n",
    "trainScore = math.sqrt(mean_squared_error(trainY[0], trainPredict[:,0]))\n",
    "print('Train Score: %.2f RMSE' % (trainScore))\n",
    "testScore = math.sqrt(mean_squared_error(testY[0], testPredict[:,0]))\n",
    "print('Test Score: %.2f RMSE' % (testScore))"
   ]
  },
  {
   "cell_type": "code",
   "execution_count": 40,
   "id": "43cd93bc-bb3f-45f1-a06c-63aa5fd90350",
   "metadata": {
    "tags": []
   },
   "outputs": [
    {
     "data": {
      "image/png": "[encoded data removed]",
      "text/plain": [
       "<Figure size 1600x800 with 1 Axes>"
      ]
     },
     "metadata": {},
     "output_type": "display_data"
    }
   ],
   "source": [
    "# shift train predictions for plotting\n",
    "trainPredictPlot = np.empty_like(dataset)\n",
    "trainPredictPlot[:, :] = np.nan\n",
    "trainPredictPlot[look_back:len(trainPredict)+look_back, :] = trainPredict\n",
    "\n",
    "# shift test predictions for plotting\n",
    "testPredictPlot = np.empty_like(dataset)\n",
    "testPredictPlot[:, :] = np.nan\n",
    "testPredictPlot[len(trainPredict)+(look_back*2)+1:len(dataset)-1, :] = testPredict\n",
    "\n",
    "# plot baseline and predictions\n",
    "plt.figure(figsize=(16,8))\n",
    "plt.plot(min_max_scaler.inverse_transform(dataset))\n",
    "plt.plot(trainPredictPlot)\n",
    "plt.plot(testPredictPlot)\n",
    "plt.show()"
   ]
  },
  {
   "cell_type": "code",
   "execution_count": 41,
   "id": "f712c98d-72c0-43bd-9d50-9e6fb3b17220",
   "metadata": {},
   "outputs": [
    {
     "ename": "IndexError",
     "evalue": "only integers, slices (`:`), ellipsis (`...`), numpy.newaxis (`None`) and integer or boolean arrays are valid indices",
     "output_type": "error",
     "traceback": [
      "\u001b[0;31m---------------------------------------------------------------------------\u001b[0m",
      "\u001b[0;31mIndexError\u001b[0m                                Traceback (most recent call last)",
      "\u001b[1;32m/Volumes/DataQ/Tugas Akhir/lstm-predict-potato-price/baru.ipynb Cell 25\u001b[0m line \u001b[0;36m5\n\u001b[1;32m      <a href='vscode-notebook-cell:/Volumes/DataQ/Tugas%20Akhir/lstm-predict-potato-price/baru.ipynb#X33sZmlsZQ%3D%3D?line=2'>3</a>\u001b[0m plt\u001b[39m.\u001b[39mxlabel(\u001b[39m'\u001b[39m\u001b[39mDate\u001b[39m\u001b[39m'\u001b[39m, fontsize\u001b[39m=\u001b[39m\u001b[39m18\u001b[39m)\n\u001b[1;32m      <a href='vscode-notebook-cell:/Volumes/DataQ/Tugas%20Akhir/lstm-predict-potato-price/baru.ipynb#X33sZmlsZQ%3D%3D?line=3'>4</a>\u001b[0m plt\u001b[39m.\u001b[39mylabel(\u001b[39m'\u001b[39m\u001b[39mClose Price Rupiah (Rp)\u001b[39m\u001b[39m'\u001b[39m, fontsize\u001b[39m=\u001b[39m\u001b[39m18\u001b[39m)\n\u001b[0;32m----> <a href='vscode-notebook-cell:/Volumes/DataQ/Tugas%20Akhir/lstm-predict-potato-price/baru.ipynb#X33sZmlsZQ%3D%3D?line=4'>5</a>\u001b[0m plt\u001b[39m.\u001b[39mplot(train[\u001b[39m'\u001b[39;49m\u001b[39mBMK\u001b[39;49m\u001b[39m'\u001b[39;49m])\n\u001b[1;32m      <a href='vscode-notebook-cell:/Volumes/DataQ/Tugas%20Akhir/lstm-predict-potato-price/baru.ipynb#X33sZmlsZQ%3D%3D?line=5'>6</a>\u001b[0m plt\u001b[39m.\u001b[39mplot(valid[[\u001b[39m'\u001b[39m\u001b[39mBMK\u001b[39m\u001b[39m'\u001b[39m, \u001b[39m'\u001b[39m\u001b[39mPredictions\u001b[39m\u001b[39m'\u001b[39m]])\n\u001b[1;32m      <a href='vscode-notebook-cell:/Volumes/DataQ/Tugas%20Akhir/lstm-predict-potato-price/baru.ipynb#X33sZmlsZQ%3D%3D?line=6'>7</a>\u001b[0m plt\u001b[39m.\u001b[39mlegend([\u001b[39m'\u001b[39m\u001b[39mTrain\u001b[39m\u001b[39m'\u001b[39m, \u001b[39m'\u001b[39m\u001b[39mValid\u001b[39m\u001b[39m'\u001b[39m, \u001b[39m'\u001b[39m\u001b[39mPredictions\u001b[39m\u001b[39m'\u001b[39m], loc\u001b[39m=\u001b[39m\u001b[39m'\u001b[39m\u001b[39mlower right\u001b[39m\u001b[39m'\u001b[39m)\n",
      "\u001b[0;31mIndexError\u001b[0m: only integers, slices (`:`), ellipsis (`...`), numpy.newaxis (`None`) and integer or boolean arrays are valid indices"
     ]
    },
    {
     "data": {
      "image/png": "[encoded data removed]",
      "text/plain": [
       "<Figure size 1600x800 with 1 Axes>"
      ]
     },
     "metadata": {},
     "output_type": "display_data"
    }
   ],
   "source": [
    "plt.figure(figsize=(16,8))\n",
    "plt.title('Model Predictions')\n",
    "plt.xlabel('Date', fontsize=18)\n",
    "plt.ylabel('Close Price Rupiah (Rp)', fontsize=18)\n",
    "plt.plot(train['BMK'])\n",
    "plt.plot(valid[['BMK', 'Predictions']])\n",
    "plt.legend(['Train', 'Valid', 'Predictions'], loc='lower right')\n",
    "plt.show()"
   ]
  }
 ],
 "metadata": {
  "kernelspec": {
   "display_name": "Python 3 (ipykernel)",
   "language": "python",
   "name": "python3"
  },
  "language_info": {
   "codemirror_mode": {
    "name": "ipython",
    "version": 3
   },
   "file_extension": ".py",
   "mimetype": "text/x-python",
   "name": "python",
   "nbconvert_exporter": "python",
   "pygments_lexer": "ipython3",
   "version": "3.9.6"
  }
 },
 "nbformat": 4,
 "nbformat_minor": 5
}
